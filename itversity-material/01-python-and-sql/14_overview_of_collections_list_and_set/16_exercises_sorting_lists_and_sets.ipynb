{
 "cells": [
  {
   "cell_type": "markdown",
   "id": "88fa820d",
   "metadata": {
    "tags": []
   },
   "source": [
    "## Exercises - Sorting lists and sets\n",
    "\n",
    "Let us perform few exercises to sort lists and sets."
   ]
  },
  {
   "cell_type": "markdown",
   "id": "f224db89",
   "metadata": {},
   "source": [
    "### Exercise 1 - Sort Players by name\n",
    "\n",
    "Sort famous players by their name. The list contains comma separated strings with player name followed by the sport they play."
   ]
  },
  {
   "cell_type": "code",
   "execution_count": 1,
   "id": "ad9dc37e",
   "metadata": {},
   "outputs": [],
   "source": [
    "famous_players = ['Pete Sampras,Tennis',\n",
    " 'Sachin Tendulkar,Cricket',\n",
    " 'Brian Lara,Cricket',\n",
    " 'Diego Maradona,Soccer',\n",
    " 'Roger Federer,Tennis',\n",
    " 'Ian Thorpe,Swimming',\n",
    " 'Ronaldo,Soccer',\n",
    " 'Usain Bolt,Running',\n",
    " 'P. V. Sindhu,Badminton',\n",
    " 'Shane Warne,Cricket',\n",
    " 'David Beckham,Cricket',\n",
    " 'Michael Phelps,Swimming']"
   ]
  },
  {
   "cell_type": "code",
   "execution_count": 2,
   "id": "30f80621",
   "metadata": {},
   "outputs": [],
   "source": [
    "# Your code should go here\n",
    "famous_players.sort(key=lambda player: player.split(',')[0])"
   ]
  },
  {
   "cell_type": "code",
   "execution_count": 3,
   "id": "0bfe86d0",
   "metadata": {},
   "outputs": [
    {
     "data": {
      "text/plain": [
       "['Brian Lara,Cricket',\n",
       " 'David Beckham,Cricket',\n",
       " 'Diego Maradona,Soccer',\n",
       " 'Ian Thorpe,Swimming',\n",
       " 'Michael Phelps,Swimming',\n",
       " 'P. V. Sindhu,Badminton',\n",
       " 'Pete Sampras,Tennis',\n",
       " 'Roger Federer,Tennis',\n",
       " 'Ronaldo,Soccer',\n",
       " 'Sachin Tendulkar,Cricket',\n",
       " 'Shane Warne,Cricket',\n",
       " 'Usain Bolt,Running']"
      ]
     },
     "execution_count": 3,
     "metadata": {},
     "output_type": "execute_result"
    }
   ],
   "source": [
    "famous_players"
   ]
  },
  {
   "cell_type": "markdown",
   "id": "68da9964",
   "metadata": {},
   "source": [
    "* Here is the desired output.\n",
    "```python\n",
    "['Brian Lara,Cricket',\n",
    " 'David Beckham,Cricket',\n",
    " 'Diego Maradona,Soccer',\n",
    " 'Ian Thorpe,Swimming',\n",
    " 'Michael Phelps,Swimming',\n",
    " 'P. V. Sindhu,Badminton',\n",
    " 'Pete Sampras,Tennis',\n",
    " 'Roger Federer,Tennis',\n",
    " 'Ronaldo,Soccer',\n",
    " 'Sachin Tendulkar,Cricket',\n",
    " 'Shane Warne,Cricket',\n",
    " 'Usain Bolt,Running']\n",
    "```"
   ]
  },
  {
   "cell_type": "markdown",
   "id": "56235777",
   "metadata": {},
   "source": [
    "### Exercise 2 - Sort Players by sport and then by name\n",
    "\n",
    "Sort famous players by the sport name. The list contains comma separated strings with player name followed by the sport they play. You need to sort the data by sport and then with in each sport you need to sort by name of the player. \n",
    "\n",
    "**The process of sorting data on multiple attributes is known as composite sorting. This is an exercise related to composite sorting based on 2 fields.**"
   ]
  },
  {
   "cell_type": "code",
   "execution_count": 4,
   "id": "f2528bbc",
   "metadata": {},
   "outputs": [],
   "source": [
    "famous_players = ['Pete Sampras,Tennis',\n",
    " 'Sachin Tendulkar,Cricket',\n",
    " 'Brian Lara,Cricket',\n",
    " 'Diego Maradona,Soccer',\n",
    " 'Roger Federer,Tennis',\n",
    " 'Ian Thorpe,Swimming',\n",
    " 'Ronaldo,Soccer',\n",
    " 'Usain Bolt,Running',\n",
    " 'P. V. Sindhu,Badminton',\n",
    " 'Shane Warne,Cricket',\n",
    " 'David Beckham,Cricket',\n",
    " 'Michael Phelps,Swimming']"
   ]
  },
  {
   "cell_type": "code",
   "execution_count": 12,
   "id": "ac4c3c77",
   "metadata": {},
   "outputs": [
    {
     "data": {
      "text/plain": [
       "['P. V. Sindhu,Badminton',\n",
       " 'Brian Lara,Cricket',\n",
       " 'David Beckham,Cricket',\n",
       " 'Sachin Tendulkar,Cricket',\n",
       " 'Shane Warne,Cricket',\n",
       " 'Usain Bolt,Running',\n",
       " 'Diego Maradona,Soccer',\n",
       " 'Ronaldo,Soccer',\n",
       " 'Ian Thorpe,Swimming',\n",
       " 'Michael Phelps,Swimming',\n",
       " 'Pete Sampras,Tennis',\n",
       " 'Roger Federer,Tennis']"
      ]
     },
     "execution_count": 12,
     "metadata": {},
     "output_type": "execute_result"
    }
   ],
   "source": [
    "# Your code should go here\n",
    "sorted(famous_players, key=lambda player: (player.split(',')[1],player.split(',')[0]))"
   ]
  },
  {
   "cell_type": "markdown",
   "id": "e3722973",
   "metadata": {},
   "source": [
    "* Here is the desired output.\n",
    "```python\n",
    "['P. V. Sindhu,Badminton',\n",
    " 'Sachin Tendulkar,Cricket',\n",
    " 'Brian Lara,Cricket',\n",
    " 'Shane Warne,Cricket',\n",
    " 'David Beckham,Cricket',\n",
    " 'Usain Bolt,Running',\n",
    " 'Diego Maradona,Soccer',\n",
    " 'Ronaldo,Soccer',\n",
    " 'Ian Thorpe,Swimming',\n",
    " 'Michael Phelps,Swimming',\n",
    " 'Pete Sampras,Tennis',\n",
    " 'Roger Federer,Tennis']\n",
    "```"
   ]
  },
  {
   "cell_type": "markdown",
   "id": "09025178",
   "metadata": {},
   "source": [
    "### Exercise 3 - Sort inventory by quantity\n",
    "\n",
    "Sort the set of inventory by quantity. Each element of the set is of type string where we have inventory item and corresponding quantity separated by **:**.\n",
    "* Please note that, quantity is missing for couple of items.\n",
    "* Data should be sorted in ascending order by quantity numerically.\n",
    "* The items with missing quantity should come on top."
   ]
  },
  {
   "cell_type": "code",
   "execution_count": 44,
   "id": "7a12f7a5",
   "metadata": {},
   "outputs": [],
   "source": [
    "inventory = {'almond milk:5',\n",
    " 'cake mix:50',\n",
    " 'cardamom:2',\n",
    " 'pistachios:3',\n",
    " 'rice:50',\n",
    " 'sugar:10',\n",
    " 'wheat:300'}"
   ]
  },
  {
   "cell_type": "code",
   "execution_count": 35,
   "id": "8cce995f",
   "metadata": {},
   "outputs": [
    {
     "data": {
      "text/plain": [
       "['cashew', '']"
      ]
     },
     "execution_count": 35,
     "metadata": {},
     "output_type": "execute_result"
    }
   ],
   "source": [
    "'cashew:'.split(':')"
   ]
  },
  {
   "cell_type": "code",
   "execution_count": 40,
   "id": "75fa20f5",
   "metadata": {},
   "outputs": [],
   "source": [
    "sortInvent = list(inventory).sort(key = lambda x: int(x.split(':')[-1]) ,reverse=True)"
   ]
  },
  {
   "cell_type": "code",
   "execution_count": 43,
   "id": "fd42c9ef",
   "metadata": {},
   "outputs": [
    {
     "data": {
      "text/plain": [
       "['wheat:300',\n",
       " 'rice:50',\n",
       " 'cake mix:50',\n",
       " 'sugar:10',\n",
       " 'almond milk:5',\n",
       " 'pistachios:3',\n",
       " 'cardamom:2']"
      ]
     },
     "execution_count": 43,
     "metadata": {},
     "output_type": "execute_result"
    }
   ],
   "source": [
    "sorted(list(inventory),key = lambda x: int(x.split(':')[-1]) ,reverse=True)"
   ]
  },
  {
   "cell_type": "code",
   "execution_count": 45,
   "id": "24d3cd47",
   "metadata": {},
   "outputs": [],
   "source": [
    "inventory_str = {'almond milk:5',\n",
    " 'cake mix:50',\n",
    " 'cardamom:2',\n",
    " 'cashews:',\n",
    " 'pistachios:3',\n",
    " 'rice:50',\n",
    " 'sugar:10',\n",
    " 'vegetable oil:',\n",
    " 'wheat:300'}"
   ]
  },
  {
   "cell_type": "code",
   "execution_count": 47,
   "id": "eb527482",
   "metadata": {},
   "outputs": [
    {
     "data": {
      "text/plain": [
       "['rice:50',\n",
       " 'cake mix:50',\n",
       " 'almond milk:5',\n",
       " 'wheat:300',\n",
       " 'pistachios:3',\n",
       " 'cardamom:2',\n",
       " 'sugar:10',\n",
       " 'vegetable oil:',\n",
       " 'cashews:']"
      ]
     },
     "execution_count": 47,
     "metadata": {},
     "output_type": "execute_result"
    }
   ],
   "source": [
    "# Your code should go here\n",
    "sorted(inventory_str, key=lambda inv: inv.split(':')[1],reverse=True)"
   ]
  },
  {
   "cell_type": "markdown",
   "id": "fd494a7e",
   "metadata": {},
   "source": [
    "* Here is the desired output\n",
    "\n",
    "```python\n",
    "['cashews:',\n",
    " 'vegetable oil:',\n",
    " 'cardamom:2',\n",
    " 'pistachios:3',\n",
    " 'almond milk:5',\n",
    " 'sugar:10',\n",
    " 'cake mix:50',\n",
    " 'rice:50',\n",
    " 'wheat:300']\n",
    "```"
   ]
  },
  {
   "cell_type": "markdown",
   "id": "853b5e36",
   "metadata": {},
   "source": [
    "### Exercise 4 - Sorting by Number of Enrollments\n",
    "\n",
    "Let us sort the data by number of enrollments in descending order.\n",
    "* We have list of courses. Each course have several attribute values which are comma separated or delimited.\n",
    "* Here is an example for one course. Each course record is of type string.\n",
    "```python\n",
    "'1,2020 Complete Python Bootcamp: From Zero to Hero in Python,Beginner,1100093,4.6,318066'\n",
    "```\n",
    "* We have course id, course title, suitable for or level (3rd attribute), number of enrollments (4th attribute), cumulative rating and then number of ratings for each course.\n",
    "* We need to sort the data based on number of enrollments in descending order."
   ]
  },
  {
   "cell_type": "code",
   "execution_count": 48,
   "id": "24db7b7a",
   "metadata": {},
   "outputs": [],
   "source": [
    "courses = ['1,2020 Complete Python Bootcamp: From Zero to Hero in Python,Beginner,1100093,4.6,318066',\n",
    " '4,Angular - The Complete Guide (2020 Edition),Intermediate,422557,4.6,129984',\n",
    " '12,Automate the Boring Stuff with Python Programming,Advanced,692617,4.6,70508',\n",
    " '10,Complete C# Unity Game Developer 2D,Advanced,364934,4.6,78989',\n",
    " '5,Java Programming Masterclass for Software Developers,Advanced,502572,4.6,123798',\n",
    " '15,Learn Python Programming Masterclass,Advanced,240790,4.5,58677',\n",
    " '3,Machine Learning A-Z™: Hands-On Python & R In Data Science,Intermediate,692812,4.5,132228',\n",
    " '14,Modern React with Redux [2020 Update],Intermediate,203214,4.7,60835',\n",
    " '8,Python for Data Science and Machine Learning Bootcamp,Intermediate,387789,4.6,87403',\n",
    " '18,Selenium WebDriver with Java -Basics to Advanced+Frameworks,Advanced,148562,4.6,49947',\n",
    " '21,Spring & Hibernate for Beginners (includes Spring Boot),Advanced,177053,4.6,45329',\n",
    " '7,The Complete 2020 Web Development Bootcamp,Beginner,270656,4.7,88098',\n",
    " '9,The Complete JavaScript Course 2020: Build Real Projects!,Intermediate,347979,4.6,83521',\n",
    " '16,The Complete Node.js Developer Course (3rd Edition),Advanced,202922,4.7,50885',\n",
    " '13,The Complete Web Developer Course 2.0,Intermediate,273598,4.5,63175',\n",
    " '11,The Data Science Course 2020: Complete Data Science Bootcamp,Beginner,325047,4.5,76907',\n",
    " '20,The Ultimate MySQL Bootcamp: Go from SQL Beginner to Expert,Beginner,203366,4.6,45382',\n",
    " '2,The Web Developer Bootcamp,Beginner,596726,4.6,182997',\n",
    " '19,Unreal Engine C++ Developer: Learn C++ and Make Video Games,Advanced,229005,4.5,45860',\n",
    " '17,iOS 13 & Swift 5 - The Complete iOS App Development Bootcamp,Advanced,179598,4.8,49972']"
   ]
  },
  {
   "cell_type": "code",
   "execution_count": 55,
   "id": "d8f16567",
   "metadata": {},
   "outputs": [
    {
     "data": {
      "text/plain": [
       "1100093"
      ]
     },
     "execution_count": 55,
     "metadata": {},
     "output_type": "execute_result"
    }
   ],
   "source": [
    "int(courses[0].split(',')[3])"
   ]
  },
  {
   "cell_type": "code",
   "execution_count": 57,
   "id": "16d83988",
   "metadata": {},
   "outputs": [
    {
     "data": {
      "text/plain": [
       "['1,2020 Complete Python Bootcamp: From Zero to Hero in Python,Beginner,1100093,4.6,318066',\n",
       " '3,Machine Learning A-Z™: Hands-On Python & R In Data Science,Intermediate,692812,4.5,132228',\n",
       " '12,Automate the Boring Stuff with Python Programming,Advanced,692617,4.6,70508',\n",
       " '2,The Web Developer Bootcamp,Beginner,596726,4.6,182997',\n",
       " '5,Java Programming Masterclass for Software Developers,Advanced,502572,4.6,123798',\n",
       " '4,Angular - The Complete Guide (2020 Edition),Intermediate,422557,4.6,129984',\n",
       " '8,Python for Data Science and Machine Learning Bootcamp,Intermediate,387789,4.6,87403',\n",
       " '10,Complete C# Unity Game Developer 2D,Advanced,364934,4.6,78989',\n",
       " '9,The Complete JavaScript Course 2020: Build Real Projects!,Intermediate,347979,4.6,83521',\n",
       " '11,The Data Science Course 2020: Complete Data Science Bootcamp,Beginner,325047,4.5,76907',\n",
       " '13,The Complete Web Developer Course 2.0,Intermediate,273598,4.5,63175',\n",
       " '7,The Complete 2020 Web Development Bootcamp,Beginner,270656,4.7,88098',\n",
       " '15,Learn Python Programming Masterclass,Advanced,240790,4.5,58677',\n",
       " '19,Unreal Engine C++ Developer: Learn C++ and Make Video Games,Advanced,229005,4.5,45860',\n",
       " '20,The Ultimate MySQL Bootcamp: Go from SQL Beginner to Expert,Beginner,203366,4.6,45382',\n",
       " '14,Modern React with Redux [2020 Update],Intermediate,203214,4.7,60835',\n",
       " '16,The Complete Node.js Developer Course (3rd Edition),Advanced,202922,4.7,50885',\n",
       " '17,iOS 13 & Swift 5 - The Complete iOS App Development Bootcamp,Advanced,179598,4.8,49972',\n",
       " '21,Spring & Hibernate for Beginners (includes Spring Boot),Advanced,177053,4.6,45329',\n",
       " '18,Selenium WebDriver with Java -Basics to Advanced+Frameworks,Advanced,148562,4.6,49947']"
      ]
     },
     "execution_count": 57,
     "metadata": {},
     "output_type": "execute_result"
    }
   ],
   "source": [
    "# Your code should go here.\n",
    "sorted(courses, key=lambda cou: int(cou.split(',')[3]), reverse=True)"
   ]
  },
  {
   "cell_type": "markdown",
   "id": "ccc32b2c",
   "metadata": {},
   "source": [
    "* Here is the desired output.\n",
    "\n",
    "```python\n",
    "['1,2020 Complete Python Bootcamp: From Zero to Hero in Python,Beginner,1100093,4.6,318066',\n",
    " '3,Machine Learning A-Z™: Hands-On Python & R In Data Science,Intermediate,692812,4.5,132228',\n",
    " '12,Automate the Boring Stuff with Python Programming,Advanced,692617,4.6,70508',\n",
    " '2,The Web Developer Bootcamp,Beginner,596726,4.6,182997',\n",
    " '5,Java Programming Masterclass for Software Developers,Advanced,502572,4.6,123798',\n",
    " '4,Angular - The Complete Guide (2020 Edition),Intermediate,422557,4.6,129984',\n",
    " '8,Python for Data Science and Machine Learning Bootcamp,Intermediate,387789,4.6,87403',\n",
    " '10,Complete C# Unity Game Developer 2D,Advanced,364934,4.6,78989',\n",
    " '9,The Complete JavaScript Course 2020: Build Real Projects!,Intermediate,347979,4.6,83521',\n",
    " '11,The Data Science Course 2020: Complete Data Science Bootcamp,Beginner,325047,4.5,76907',\n",
    " '13,The Complete Web Developer Course 2.0,Intermediate,273598,4.5,63175',\n",
    " '7,The Complete 2020 Web Development Bootcamp,Beginner,270656,4.7,88098',\n",
    " '15,Learn Python Programming Masterclass,Advanced,240790,4.5,58677',\n",
    " '19,Unreal Engine C++ Developer: Learn C++ and Make Video Games,Advanced,229005,4.5,45860',\n",
    " '20,The Ultimate MySQL Bootcamp: Go from SQL Beginner to Expert,Beginner,203366,4.6,45382',\n",
    " '14,Modern React with Redux [2020 Update],Intermediate,203214,4.7,60835',\n",
    " '16,The Complete Node.js Developer Course (3rd Edition),Advanced,202922,4.7,50885',\n",
    " '17,iOS 13 & Swift 5 - The Complete iOS App Development Bootcamp,Advanced,179598,4.8,49972',\n",
    " '21,Spring & Hibernate for Beginners (includes Spring Boot),Advanced,177053,4.6,45329',\n",
    " '18,Selenium WebDriver with Java -Basics to Advanced+Frameworks,Advanced,148562,4.6,49947']\n",
    "```"
   ]
  },
  {
   "cell_type": "markdown",
   "id": "e636c1c9",
   "metadata": {},
   "source": [
    "### Exercise 5 - Sorting by Level and Enrollments\n",
    "\n",
    "Let us sort the data by level and then by enrollments in descending order.\n",
    "* We have list of courses. Each course have several attribute values which are comma separated or delimited.\n",
    "* Here is an example for one course. Each course record is of type string.\n",
    "```python\n",
    "'1,2020 Complete Python Bootcamp: From Zero to Hero in Python,Beginner,1100093,4.6,318066'\n",
    "```\n",
    "* We have course id, course title, suitable for or level (3rd attribute), number of enrollments (4th attribute), cumulative rating and then number of ratings for each course.\n",
    "* We need to sort the data based on level in ascending order and then by number of enrollments in descending order."
   ]
  },
  {
   "cell_type": "code",
   "execution_count": 58,
   "id": "801ff0f5",
   "metadata": {},
   "outputs": [],
   "source": [
    "courses = ['1,2020 Complete Python Bootcamp: From Zero to Hero in Python,Beginner,1100093,4.6,318066',\n",
    " '4,Angular - The Complete Guide (2020 Edition),Intermediate,422557,4.6,129984',\n",
    " '12,Automate the Boring Stuff with Python Programming,Advanced,692617,4.6,70508',\n",
    " '10,Complete C# Unity Game Developer 2D,Advanced,364934,4.6,78989',\n",
    " '5,Java Programming Masterclass for Software Developers,Advanced,502572,4.6,123798',\n",
    " '15,Learn Python Programming Masterclass,Advanced,240790,4.5,58677',\n",
    " '3,Machine Learning A-Z™: Hands-On Python & R In Data Science,Intermediate,692812,4.5,132228',\n",
    " '14,Modern React with Redux [2020 Update],Intermediate,203214,4.7,60835',\n",
    " '8,Python for Data Science and Machine Learning Bootcamp,Intermediate,387789,4.6,87403',\n",
    " '18,Selenium WebDriver with Java -Basics to Advanced+Frameworks,Advanced,148562,4.6,49947',\n",
    " '21,Spring & Hibernate for Beginners (includes Spring Boot),Advanced,177053,4.6,45329',\n",
    " '7,The Complete 2020 Web Development Bootcamp,Beginner,270656,4.7,88098',\n",
    " '9,The Complete JavaScript Course 2020: Build Real Projects!,Intermediate,347979,4.6,83521',\n",
    " '16,The Complete Node.js Developer Course (3rd Edition),Advanced,202922,4.7,50885',\n",
    " '13,The Complete Web Developer Course 2.0,Intermediate,273598,4.5,63175',\n",
    " '11,The Data Science Course 2020: Complete Data Science Bootcamp,Beginner,325047,4.5,76907',\n",
    " '20,The Ultimate MySQL Bootcamp: Go from SQL Beginner to Expert,Beginner,203366,4.6,45382',\n",
    " '2,The Web Developer Bootcamp,Beginner,596726,4.6,182997',\n",
    " '19,Unreal Engine C++ Developer: Learn C++ and Make Video Games,Advanced,229005,4.5,45860',\n",
    " '17,iOS 13 & Swift 5 - The Complete iOS App Development Bootcamp,Advanced,179598,4.8,49972']"
   ]
  },
  {
   "cell_type": "code",
   "execution_count": 63,
   "id": "b032a54b",
   "metadata": {},
   "outputs": [
    {
     "data": {
      "text/plain": [
       "['18,Selenium WebDriver with Java -Basics to Advanced+Frameworks,Advanced,148562,4.6,49947',\n",
       " '21,Spring & Hibernate for Beginners (includes Spring Boot),Advanced,177053,4.6,45329',\n",
       " '17,iOS 13 & Swift 5 - The Complete iOS App Development Bootcamp,Advanced,179598,4.8,49972',\n",
       " '16,The Complete Node.js Developer Course (3rd Edition),Advanced,202922,4.7,50885',\n",
       " '14,Modern React with Redux [2020 Update],Intermediate,203214,4.7,60835',\n",
       " '20,The Ultimate MySQL Bootcamp: Go from SQL Beginner to Expert,Beginner,203366,4.6,45382',\n",
       " '19,Unreal Engine C++ Developer: Learn C++ and Make Video Games,Advanced,229005,4.5,45860',\n",
       " '15,Learn Python Programming Masterclass,Advanced,240790,4.5,58677',\n",
       " '7,The Complete 2020 Web Development Bootcamp,Beginner,270656,4.7,88098',\n",
       " '13,The Complete Web Developer Course 2.0,Intermediate,273598,4.5,63175',\n",
       " '11,The Data Science Course 2020: Complete Data Science Bootcamp,Beginner,325047,4.5,76907',\n",
       " '9,The Complete JavaScript Course 2020: Build Real Projects!,Intermediate,347979,4.6,83521',\n",
       " '10,Complete C# Unity Game Developer 2D,Advanced,364934,4.6,78989',\n",
       " '8,Python for Data Science and Machine Learning Bootcamp,Intermediate,387789,4.6,87403',\n",
       " '4,Angular - The Complete Guide (2020 Edition),Intermediate,422557,4.6,129984',\n",
       " '5,Java Programming Masterclass for Software Developers,Advanced,502572,4.6,123798',\n",
       " '2,The Web Developer Bootcamp,Beginner,596726,4.6,182997',\n",
       " '12,Automate the Boring Stuff with Python Programming,Advanced,692617,4.6,70508',\n",
       " '3,Machine Learning A-Z™: Hands-On Python & R In Data Science,Intermediate,692812,4.5,132228',\n",
       " '1,2020 Complete Python Bootcamp: From Zero to Hero in Python,Beginner,1100093,4.6,318066']"
      ]
     },
     "execution_count": 63,
     "metadata": {},
     "output_type": "execute_result"
    }
   ],
   "source": [
    "# Your code should go here.\n",
    "sorted(courses,key=lambda cou:(int(cou.split(',')[3]), float(cou.split(',')[4])))"
   ]
  },
  {
   "cell_type": "markdown",
   "id": "d75667b7",
   "metadata": {},
   "source": [
    "* Here is the desired output.\n",
    "\n",
    "```python\n",
    "['12,Automate the Boring Stuff with Python Programming,Advanced,692617,4.6,70508',\n",
    " '5,Java Programming Masterclass for Software Developers,Advanced,502572,4.6,123798',\n",
    " '10,Complete C# Unity Game Developer 2D,Advanced,364934,4.6,78989',\n",
    " '15,Learn Python Programming Masterclass,Advanced,240790,4.5,58677',\n",
    " '19,Unreal Engine C++ Developer: Learn C++ and Make Video Games,Advanced,229005,4.5,45860',\n",
    " '16,The Complete Node.js Developer Course (3rd Edition),Advanced,202922,4.7,50885',\n",
    " '17,iOS 13 & Swift 5 - The Complete iOS App Development Bootcamp,Advanced,179598,4.8,49972',\n",
    " '21,Spring & Hibernate for Beginners (includes Spring Boot),Advanced,177053,4.6,45329',\n",
    " '18,Selenium WebDriver with Java -Basics to Advanced+Frameworks,Advanced,148562,4.6,49947',\n",
    " '1,2020 Complete Python Bootcamp: From Zero to Hero in Python,Beginner,1100093,4.6,318066',\n",
    " '2,The Web Developer Bootcamp,Beginner,596726,4.6,182997',\n",
    " '11,The Data Science Course 2020: Complete Data Science Bootcamp,Beginner,325047,4.5,76907',\n",
    " '7,The Complete 2020 Web Development Bootcamp,Beginner,270656,4.7,88098',\n",
    " '20,The Ultimate MySQL Bootcamp: Go from SQL Beginner to Expert,Beginner,203366,4.6,45382',\n",
    " '3,Machine Learning A-Z™: Hands-On Python & R In Data Science,Intermediate,692812,4.5,132228',\n",
    " '4,Angular - The Complete Guide (2020 Edition),Intermediate,422557,4.6,129984',\n",
    " '8,Python for Data Science and Machine Learning Bootcamp,Intermediate,387789,4.6,87403',\n",
    " '9,The Complete JavaScript Course 2020: Build Real Projects!,Intermediate,347979,4.6,83521',\n",
    " '13,The Complete Web Developer Course 2.0,Intermediate,273598,4.5,63175',\n",
    " '14,Modern React with Redux [2020 Update],Intermediate,203214,4.7,60835']\n",
    "```"
   ]
  }
 ],
 "metadata": {
  "kernelspec": {
   "display_name": "Python 3 (ipykernel)",
   "language": "python",
   "name": "python3"
  },
  "language_info": {
   "codemirror_mode": {
    "name": "ipython",
    "version": 3
   },
   "file_extension": ".py",
   "mimetype": "text/x-python",
   "name": "python",
   "nbconvert_exporter": "python",
   "pygments_lexer": "ipython3",
   "version": "3.10.8"
  }
 },
 "nbformat": 4,
 "nbformat_minor": 5
}
