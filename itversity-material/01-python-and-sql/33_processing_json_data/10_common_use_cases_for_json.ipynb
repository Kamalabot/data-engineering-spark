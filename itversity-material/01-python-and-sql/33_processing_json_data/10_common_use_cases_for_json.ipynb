{
 "cells": [
  {
   "cell_type": "markdown",
   "id": "8e2ae6ae",
   "metadata": {},
   "source": [
    "## Common Use Cases for JSON\n",
    "\n",
    "Here are some of the common use cases for JSON.\n",
    "* Read data from JSON files.\n",
    "* Write data to JSON files.\n",
    "* We can use either `json` or `pandas` modules to read data from JSON files or write data to JSON files. One need to be familiar with both the approaches as each of them have different use cases and capabilities.\n",
    "* Read JSON based response payloads on REST API Calls. We use `requests` module to process the REST API response Payloads.\n",
    "* Once the payload is returned, we can use appropriate modules to process the data further."
   ]
  },
  {
   "cell_type": "markdown",
   "id": "77c0ca19",
   "metadata": {},
   "source": [
    "### Read Data from JSON files\n",
    "\n",
    "Here are the steps involved in reading data from JSON files.\n",
    "* Using `json` module\n",
    "  * Create file object using `open` in read only mode.\n",
    "  * Pass the the `file` object to `json.load`.\n",
    "  * `json.load` will return `dict`. We can process the data further using appropriate modules.\n",
    "* Using `pandas` module\n",
    "  * Use the path for the file to invoke `read_json`.\n",
    "  * A Pandas Data Frame will be created.\n",
    "  * We can process data further using rich APIs available in `pandas` module."
   ]
  },
  {
   "cell_type": "code",
   "execution_count": 1,
   "id": "5cef7116",
   "metadata": {},
   "outputs": [
    {
     "data": {
      "text/plain": [
       "dict"
      ]
     },
     "execution_count": 1,
     "metadata": {},
     "output_type": "execute_result"
    }
   ],
   "source": [
    "# Using json module\n",
    "import json\n",
    "\n",
    "yt_file = open('youtube_playlist_items.json')\n",
    "yt_items = json.load(yt_file)\n",
    "\n",
    "type(yt_items)"
   ]
  },
  {
   "cell_type": "code",
   "execution_count": 2,
   "id": "924c5a7a",
   "metadata": {},
   "outputs": [
    {
     "data": {
      "text/plain": [
       "dict_keys(['kind', 'etag', 'nextPageToken', 'items', 'pageInfo'])"
      ]
     },
     "execution_count": 2,
     "metadata": {},
     "output_type": "execute_result"
    }
   ],
   "source": [
    "yt_items.keys()"
   ]
  },
  {
   "cell_type": "code",
   "execution_count": 3,
   "id": "9b979689",
   "metadata": {},
   "outputs": [
    {
     "data": {
      "text/plain": [
       "[{'kind': 'youtube#playlistItem',\n",
       "  'etag': 'SGHDydc4dLsY2RjfXTPneb_zc_s',\n",
       "  'id': 'UExmMHN3VEZoVEk4cmtINHlJZm95VEFoZUVHaldJUnRQRy5EQkE3RTJCQTJEQkFBQTcz',\n",
       "  'contentDetails': {'videoId': 'ETZJln4jtAo',\n",
       "   'videoPublishedAt': '2020-11-28T16:29:47Z'},\n",
       "  'status': {'privacyStatus': 'public'}},\n",
       " {'kind': 'youtube#playlistItem',\n",
       "  'etag': '5EFUNhJBvcwXPxO416VYQsXGzMo',\n",
       "  'id': 'UExmMHN3VEZoVEk4cmtINHlJZm95VEFoZUVHaldJUnRQRy4yQzk4QTA5QjkzMTFFOEI1',\n",
       "  'contentDetails': {'videoId': '1OVHjHTkP3M',\n",
       "   'videoPublishedAt': '2020-11-28T16:30:12Z'},\n",
       "  'status': {'privacyStatus': 'public'}},\n",
       " {'kind': 'youtube#playlistItem',\n",
       "  'etag': 'TiKqB2aeYxJjMGKQ0yLMJY0vpQE',\n",
       "  'id': 'UExmMHN3VEZoVEk4cmtINHlJZm95VEFoZUVHaldJUnRQRy45NDlDQUFFOThDMTAxQjUw',\n",
       "  'contentDetails': {'videoId': 'qfUbPLsLQcQ',\n",
       "   'videoPublishedAt': '2020-11-28T16:30:33Z'},\n",
       "  'status': {'privacyStatus': 'public'}},\n",
       " {'kind': 'youtube#playlistItem',\n",
       "  'etag': 'vQrJOpYdXmGJuV32kjj2xqvSByc',\n",
       "  'id': 'UExmMHN3VEZoVEk4cmtINHlJZm95VEFoZUVHaldJUnRQRy4xN0Y2QjVBOEI2MzQ5OUM5',\n",
       "  'contentDetails': {'videoId': 'rLTbhSaXhSM',\n",
       "   'videoPublishedAt': '2020-11-28T16:30:52Z'},\n",
       "  'status': {'privacyStatus': 'public'}},\n",
       " {'kind': 'youtube#playlistItem',\n",
       "  'etag': '2CzGUToIgqywXAr4wuPswj9MuFg',\n",
       "  'id': 'UExmMHN3VEZoVEk4cmtINHlJZm95VEFoZUVHaldJUnRQRy5FQUY2Qzk4RUFDN0ZFRkZF',\n",
       "  'contentDetails': {'videoId': 'wP7BhXrJKR8',\n",
       "   'videoPublishedAt': '2020-11-28T16:31:14Z'},\n",
       "  'status': {'privacyStatus': 'public'}}]"
      ]
     },
     "execution_count": 3,
     "metadata": {},
     "output_type": "execute_result"
    }
   ],
   "source": [
    "yt_items['items']"
   ]
  },
  {
   "cell_type": "code",
   "execution_count": 4,
   "id": "e30d42a7",
   "metadata": {},
   "outputs": [
    {
     "data": {
      "text/plain": [
       "[{'videoId': 'ETZJln4jtAo', 'videoPublishedAt': '2020-11-28T16:29:47Z'},\n",
       " {'videoId': '1OVHjHTkP3M', 'videoPublishedAt': '2020-11-28T16:30:12Z'},\n",
       " {'videoId': 'qfUbPLsLQcQ', 'videoPublishedAt': '2020-11-28T16:30:33Z'},\n",
       " {'videoId': 'rLTbhSaXhSM', 'videoPublishedAt': '2020-11-28T16:30:52Z'},\n",
       " {'videoId': 'wP7BhXrJKR8', 'videoPublishedAt': '2020-11-28T16:31:14Z'}]"
      ]
     },
     "execution_count": 4,
     "metadata": {},
     "output_type": "execute_result"
    }
   ],
   "source": [
    "# Further data processing (get video id and published time)\n",
    "list(map(lambda rec: rec['contentDetails'], yt_items['items']))"
   ]
  },
  {
   "cell_type": "code",
   "execution_count": null,
   "id": "546b924e",
   "metadata": {},
   "outputs": [],
   "source": [
    "# Using Pandas Module\n",
    "# As youtube items are part of nested json, we need to use both json and pandas\n",
    "\n",
    "import json\n",
    "import pandas as pd\n",
    "\n",
    "yt_file = open('youtube_playlist_items.json')\n",
    "yt_items = json.load(yt_file)"
   ]
  },
  {
   "cell_type": "code",
   "execution_count": null,
   "id": "5fa6d22b",
   "metadata": {},
   "outputs": [],
   "source": [
    "yt_items.keys()"
   ]
  },
  {
   "cell_type": "code",
   "execution_count": null,
   "id": "52b58a89",
   "metadata": {},
   "outputs": [],
   "source": [
    "yt_items"
   ]
  },
  {
   "cell_type": "code",
   "execution_count": null,
   "id": "8ab64533",
   "metadata": {},
   "outputs": [],
   "source": [
    "pd.json_normalize?"
   ]
  },
  {
   "cell_type": "code",
   "execution_count": 5,
   "id": "0597d6af",
   "metadata": {},
   "outputs": [
    {
     "ename": "NameError",
     "evalue": "name 'pd' is not defined",
     "output_type": "error",
     "traceback": [
      "\u001b[0;31m---------------------------------------------------------------------------\u001b[0m",
      "\u001b[0;31mNameError\u001b[0m                                 Traceback (most recent call last)",
      "Cell \u001b[0;32mIn [5], line 1\u001b[0m\n\u001b[0;32m----> 1\u001b[0m yt_df \u001b[38;5;241m=\u001b[39m \u001b[43mpd\u001b[49m\u001b[38;5;241m.\u001b[39mjson_normalize(yt_items, \u001b[38;5;124m'\u001b[39m\u001b[38;5;124mitems\u001b[39m\u001b[38;5;124m'\u001b[39m)\n",
      "\u001b[0;31mNameError\u001b[0m: name 'pd' is not defined"
     ]
    }
   ],
   "source": [
    "yt_df = pd.json_normalize(yt_items, 'items')"
   ]
  },
  {
   "cell_type": "code",
   "execution_count": null,
   "id": "692712de",
   "metadata": {},
   "outputs": [],
   "source": [
    "yt_df"
   ]
  },
  {
   "cell_type": "code",
   "execution_count": null,
   "id": "d7ee5af6",
   "metadata": {},
   "outputs": [],
   "source": [
    "yt_df[['contentDetails.videoId', 'contentDetails.videoPublishedAt']]"
   ]
  },
  {
   "cell_type": "code",
   "execution_count": null,
   "id": "56c57fab",
   "metadata": {},
   "outputs": [],
   "source": [
    "# Using json to process customers data\n",
    "# We have one customer per line\n",
    "# We need to read the data as string then use json.loads to convert each string to dict.\n",
    "\n",
    "import json\n",
    "\n",
    "customers_file = open('customers.json')\n",
    "customers_list = customers_file.read().splitlines()\n",
    "\n",
    "# Converting the records in the file into list of dicts\n",
    "# We are processing each element in customers_list\n",
    "customers = list(map(json.loads, customers_list))"
   ]
  },
  {
   "cell_type": "code",
   "execution_count": null,
   "id": "5e45ab15",
   "metadata": {},
   "outputs": [],
   "source": [
    "customers"
   ]
  },
  {
   "cell_type": "code",
   "execution_count": null,
   "id": "ae7e6372",
   "metadata": {},
   "outputs": [],
   "source": [
    "# Using Pandas only to process customers data\n",
    "# For customers where we have one json per line, we can use Pandas directly\n",
    "\n",
    "import pandas as pd\n",
    "\n",
    "customers = pd.read_json('customers.json', lines=True)"
   ]
  },
  {
   "cell_type": "code",
   "execution_count": null,
   "id": "a988cfdc",
   "metadata": {},
   "outputs": [],
   "source": [
    "customers"
   ]
  },
  {
   "cell_type": "markdown",
   "id": "529e8341",
   "metadata": {},
   "source": [
    "### Write Data to JSON files\n",
    "\n",
    "Here are the steps involved in writing data to JSON files.\n",
    "* Using `json` module\n",
    "  * Make sure the `dict` object is ready with processed data as per requirements before writing to the file.\n",
    "  * Create file object using `open` in write mode.\n",
    "  * Pass the `file` object to `json.dump`.\n",
    "  * The `dict` will be dumped in the form of JSON in the file.\n",
    "* Using `pandas` module\n",
    "  * Make sure the Data Frame is ready with processed data as per requirements before writing to the file.\n",
    "  * Use the path for the file to invoke `to_json`. It can be invoked using Data Frame object which have the processed data.\n",
    "  * The Pandas Data Frame will be written in the form of JSON in the file.\n",
    "  * We can leverage additional keyword arguments to control the behavior. For example `orient=records` can be used to write the data frame in the form of one JSON document per line."
   ]
  }
 ],
 "metadata": {
  "kernelspec": {
   "display_name": "Python 3 (ipykernel)",
   "language": "python",
   "name": "python3"
  },
  "language_info": {
   "codemirror_mode": {
    "name": "ipython",
    "version": 3
   },
   "file_extension": ".py",
   "mimetype": "text/x-python",
   "name": "python",
   "nbconvert_exporter": "python",
   "pygments_lexer": "ipython3",
   "version": "3.10.8"
  }
 },
 "nbformat": 4,
 "nbformat_minor": 5
}
