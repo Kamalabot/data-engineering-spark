{
 "cells": [
  {
   "cell_type": "markdown",
   "id": "3bd9b9ed",
   "metadata": {
    "tags": []
   },
   "source": [
    "## Exercises - Dicts and Tuples\n",
    "\n",
    "Let us go through some exercises related to dict and tuple."
   ]
  },
  {
   "cell_type": "markdown",
   "id": "cc8a952e",
   "metadata": {
    "tags": []
   },
   "source": [
    "### Exercise 1 - Access all the values\n",
    "\n",
    "Get the values from the below dict in the form of a list."
   ]
  },
  {
   "cell_type": "code",
   "execution_count": 1,
   "id": "bc00e0ad",
   "metadata": {},
   "outputs": [],
   "source": [
    "d = {\n",
    "    'order_id': 1,\n",
    "    'order_date': '2013-07-25',\n",
    "    'order_customer_id': 100,\n",
    "    'order_status': 'COMPLETE'\n",
    "}"
   ]
  },
  {
   "cell_type": "code",
   "execution_count": 9,
   "id": "9077f25a",
   "metadata": {},
   "outputs": [],
   "source": [
    "def get_values(d):\n",
    "    return list(d.values())"
   ]
  },
  {
   "cell_type": "code",
   "execution_count": null,
   "id": "1676a52e",
   "metadata": {},
   "outputs": [],
   "source": []
  },
  {
   "cell_type": "code",
   "execution_count": 10,
   "id": "1738bc0a",
   "metadata": {},
   "outputs": [
    {
     "data": {
      "text/plain": [
       "[1, '2013-07-25', 100, 'COMPLETE']"
      ]
     },
     "execution_count": 10,
     "metadata": {},
     "output_type": "execute_result"
    }
   ],
   "source": [
    "get_values(d) # Desired output: [1, '2013-07-25', 100, 'COMPLETE']"
   ]
  },
  {
   "cell_type": "code",
   "execution_count": 11,
   "id": "99f3cfbb",
   "metadata": {},
   "outputs": [
    {
     "data": {
      "text/plain": [
       "list"
      ]
     },
     "execution_count": 11,
     "metadata": {},
     "output_type": "execute_result"
    }
   ],
   "source": [
    "type(get_values(d)) # list"
   ]
  },
  {
   "cell_type": "code",
   "execution_count": null,
   "id": "95c1541c",
   "metadata": {},
   "outputs": [],
   "source": []
  },
  {
   "cell_type": "markdown",
   "id": "9c6fa3b9",
   "metadata": {},
   "source": [
    "### Exercise 2 - Get Data types of values\n",
    "\n",
    "Continue on previous exercise and print data type of each value returned by get_values."
   ]
  },
  {
   "cell_type": "code",
   "execution_count": 12,
   "id": "2415c433",
   "metadata": {},
   "outputs": [],
   "source": [
    "l = get_values(d)"
   ]
  },
  {
   "cell_type": "markdown",
   "id": "0c05985a",
   "metadata": {},
   "source": [
    "* As l is list, you will be able to use `for` loop to access the elements from l. Here is the desired output.\n",
    "\n",
    "```\n",
    "<class 'int'>\n",
    "<class 'str'>\n",
    "<class 'int'>\n",
    "<class 'str'>\n",
    "```"
   ]
  },
  {
   "cell_type": "code",
   "execution_count": 13,
   "id": "ef88bd8c",
   "metadata": {},
   "outputs": [
    {
     "name": "stdout",
     "output_type": "stream",
     "text": [
      "<class 'int'>\n",
      "<class 'str'>\n",
      "<class 'int'>\n",
      "<class 'str'>\n"
     ]
    }
   ],
   "source": [
    "for e in l: print(type(e))"
   ]
  },
  {
   "cell_type": "markdown",
   "id": "bc9ccaac",
   "metadata": {},
   "source": [
    "### Exercise 3 - Data Type Conversion\n",
    "\n",
    "As part of the below dict object, order_date is of type string. You need to convert the data type of **order_date** to date type."
   ]
  },
  {
   "cell_type": "code",
   "execution_count": 14,
   "id": "5e784fbf",
   "metadata": {},
   "outputs": [],
   "source": [
    "d = {\n",
    "    'order_id': 1,\n",
    "    'order_date': '2013-07-25',\n",
    "    'order_customer_id': 100,\n",
    "    'order_status': 'COMPLETE'\n",
    "}"
   ]
  },
  {
   "cell_type": "code",
   "execution_count": 15,
   "id": "aa772cd7",
   "metadata": {},
   "outputs": [],
   "source": [
    "import datetime\n",
    "\n",
    "def convert_date_type(d):\n",
    "    return d"
   ]
  },
  {
   "cell_type": "markdown",
   "id": "3661bd38",
   "metadata": {},
   "source": [
    "* Run below cell to validate the output. Here is the desired output.\n",
    "\n",
    "```python\n",
    "{'order_id': 1,\n",
    " 'order_date': datetime.datetime(2013, 7, 25, 0, 0),\n",
    " 'order_customer_id': 100,\n",
    " 'order_status': 'COMPLETE'}\n",
    "```"
   ]
  },
  {
   "cell_type": "code",
   "execution_count": 16,
   "id": "2c29794b",
   "metadata": {},
   "outputs": [
    {
     "data": {
      "text/plain": [
       "{'order_id': 1,\n",
       " 'order_date': '2013-07-25',\n",
       " 'order_customer_id': 100,\n",
       " 'order_status': 'COMPLETE'}"
      ]
     },
     "execution_count": 16,
     "metadata": {},
     "output_type": "execute_result"
    }
   ],
   "source": [
    "d_converted = convert_date_type(d)\n",
    "d_converted"
   ]
  },
  {
   "cell_type": "code",
   "execution_count": 17,
   "id": "6577ab3d",
   "metadata": {},
   "outputs": [
    {
     "data": {
      "text/plain": [
       "str"
      ]
     },
     "execution_count": 17,
     "metadata": {},
     "output_type": "execute_result"
    }
   ],
   "source": [
    "type(d_converted['order_date']) # Output: datetime.datetime"
   ]
  },
  {
   "cell_type": "markdown",
   "id": "8f040cc9",
   "metadata": {},
   "source": [
    "### Exercise 4 - Create list of dicts\n",
    "\n",
    "Create list of dicts for the following data.\n",
    "* Each element in the list should be of type dict.\n",
    "* The dict should contain **order_item_order_id** and **order_item_subtotal** as keys.\n",
    "\n",
    "|order_item_order_id|order_item_subtotal|\n",
    "|---|---|\n",
    "|1|299.98|\n",
    "|2|199.99|\n",
    "|2|250.0|\n",
    "|2|129.99|\n",
    "|4|49.98|\n",
    "|4|299.95|\n",
    "|4|150.0|\n",
    "|4|199.92|"
   ]
  },
  {
   "cell_type": "markdown",
   "id": "7867112c",
   "metadata": {},
   "source": [
    "### Exercise 5: Dict with max value\n",
    "\n",
    "Create a dict with order id and max order item subtotal using the below dict. The below dict contains order id as key and order item subtotals list as corresponding value."
   ]
  },
  {
   "cell_type": "code",
   "execution_count": 18,
   "id": "57a16494",
   "metadata": {},
   "outputs": [],
   "source": [
    "order_item_subtotals = {\n",
    "    1: [299.98],\n",
    "    2: [199.99, 250.0, 129.99],\n",
    "    4: [49.98, 150.0, 199.92],\n",
    "    5: [299.98, 299.95, 99.96, 299.98, 129.99],\n",
    "    7: [199.99, 299.98, 79.95],\n",
    "    8: [179.97, 299.95, 199.92, 50.0]\n",
    "}"
   ]
  },
  {
   "cell_type": "code",
   "execution_count": 20,
   "id": "4b613118",
   "metadata": {},
   "outputs": [],
   "source": [
    "# Your solution should go here\n",
    "desired_data=[]\n",
    "for ele in order_item_subtotals.items():\n",
    "    desired_data.append((ele[0],sum(ele[1])))"
   ]
  },
  {
   "cell_type": "code",
   "execution_count": 22,
   "id": "6f06dc3c",
   "metadata": {},
   "outputs": [
    {
     "data": {
      "text/plain": [
       "{1: 299.98,\n",
       " 2: 579.98,\n",
       " 4: 399.9,\n",
       " 5: 1129.8600000000001,\n",
       " 7: 579.9200000000001,\n",
       " 8: 729.8399999999999}"
      ]
     },
     "execution_count": 22,
     "metadata": {},
     "output_type": "execute_result"
    }
   ],
   "source": [
    "dict(desired_data)"
   ]
  },
  {
   "cell_type": "markdown",
   "id": "9c8e16c1",
   "metadata": {},
   "source": [
    "* Here is the desired output.\n",
    "\n",
    "```python\n",
    "{1: 299.98, 2: 250.0, 4: 199.92, 5: 299.98, 7: 299.98, 8: 299.95}\n",
    "```"
   ]
  },
  {
   "cell_type": "markdown",
   "id": "e9548094",
   "metadata": {},
   "source": [
    "### Exercise 6: Dict with order revenue\n",
    "\n",
    "Create a dict with order item id and order item subtotal. The input dict will contain order item id as key and quantity along with price as value. **order item subtotal** is product of quantity and price."
   ]
  },
  {
   "cell_type": "code",
   "execution_count": 23,
   "id": "cdd8b376",
   "metadata": {},
   "outputs": [],
   "source": [
    "order_items = {1: (1, 299.98),\n",
    " 2: (1, 199.99),\n",
    " 3: (5, 50.0),\n",
    " 4: (1, 129.99),\n",
    " 5: (2, 24.99),\n",
    " 6: (5, 59.99),\n",
    " 7: (3, 50.0),\n",
    " 8: (4, 49.98),\n",
    " 9: (1, 299.98),\n",
    " 10: (5, 59.99)}"
   ]
  },
  {
   "cell_type": "code",
   "execution_count": 24,
   "id": "c62129fb",
   "metadata": {},
   "outputs": [],
   "source": [
    "# Your solution should go here\n",
    "new_ditc = []\n",
    "for ele in order_items.items():\n",
    "    new_ditc.append((ele[0], ele[1][0]*ele[1][1]))"
   ]
  },
  {
   "cell_type": "code",
   "execution_count": 25,
   "id": "b2e8c405",
   "metadata": {},
   "outputs": [
    {
     "data": {
      "text/plain": [
       "{1: 299.98,\n",
       " 2: 199.99,\n",
       " 3: 250.0,\n",
       " 4: 129.99,\n",
       " 5: 49.98,\n",
       " 6: 299.95,\n",
       " 7: 150.0,\n",
       " 8: 199.92,\n",
       " 9: 299.98,\n",
       " 10: 299.95}"
      ]
     },
     "execution_count": 25,
     "metadata": {},
     "output_type": "execute_result"
    }
   ],
   "source": [
    "dict(new_ditc)"
   ]
  },
  {
   "cell_type": "markdown",
   "id": "cdb5a151",
   "metadata": {},
   "source": [
    "* Here is the expected output.\n",
    "\n",
    "```python\n",
    "{1: 299.98,\n",
    " 2: 199.99,\n",
    " 3: 250.0,\n",
    " 4: 129.99,\n",
    " 5: 49.98,\n",
    " 6: 299.95,\n",
    " 7: 150.0,\n",
    " 8: 199.92,\n",
    " 9: 299.98,\n",
    " 10: 299.95}\n",
    "```"
   ]
  }
 ],
 "metadata": {
  "kernelspec": {
   "display_name": "Python 3 (ipykernel)",
   "language": "python",
   "name": "python3"
  },
  "language_info": {
   "codemirror_mode": {
    "name": "ipython",
    "version": 3
   },
   "file_extension": ".py",
   "mimetype": "text/x-python",
   "name": "python",
   "nbconvert_exporter": "python",
   "pygments_lexer": "ipython3",
   "version": "3.10.8"
  }
 },
 "nbformat": 4,
 "nbformat_minor": 5
}
