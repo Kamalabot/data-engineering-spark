{
 "cells": [
  {
   "cell_type": "markdown",
   "metadata": {},
   "source": [
    "## Validate myReduceByKey Function\n",
    "\n",
    "Let us perform few tasks to validate myReduceKey Function."
   ]
  },
  {
   "cell_type": "code",
   "execution_count": 1,
   "metadata": {},
   "outputs": [],
   "source": [
    "%run 04_develop_myMap_function.ipynb"
   ]
  },
  {
   "cell_type": "code",
   "execution_count": 2,
   "metadata": {},
   "outputs": [],
   "source": [
    "%run 08_develop_myReduceByKey_function.ipynb"
   ]
  },
  {
   "cell_type": "markdown",
   "metadata": {},
   "source": [
    "* Use the function to get the count by date from orders."
   ]
  },
  {
   "cell_type": "code",
   "execution_count": 3,
   "metadata": {},
   "outputs": [],
   "source": [
    "orders_path = \"../../../data/retail_db/orders/part-00000\""
   ]
  },
  {
   "cell_type": "code",
   "execution_count": 4,
   "metadata": {},
   "outputs": [],
   "source": [
    "orders = open(orders_path). \\\n",
    "    read(). \\\n",
    "    splitlines()"
   ]
  },
  {
   "cell_type": "code",
   "execution_count": null,
   "metadata": {},
   "outputs": [],
   "source": [
    "orders[:10]"
   ]
  },
  {
   "cell_type": "code",
   "execution_count": 5,
   "metadata": {},
   "outputs": [
    {
     "data": {
      "text/plain": [
       "[('2013-07-25 00:00:00.0', 1),\n",
       " ('2013-07-25 00:00:00.0', 1),\n",
       " ('2013-07-25 00:00:00.0', 1),\n",
       " ('2013-07-25 00:00:00.0', 1),\n",
       " ('2013-07-25 00:00:00.0', 1),\n",
       " ('2013-07-25 00:00:00.0', 1),\n",
       " ('2013-07-25 00:00:00.0', 1),\n",
       " ('2013-07-25 00:00:00.0', 1),\n",
       " ('2013-07-25 00:00:00.0', 1),\n",
       " ('2013-07-25 00:00:00.0', 1)]"
      ]
     },
     "execution_count": 5,
     "metadata": {},
     "output_type": "execute_result"
    }
   ],
   "source": [
    "orders_map = myMap(orders, \n",
    "                   lambda order: (order.split(',')[1], 1)\n",
    "                  )\n",
    "orders_map[:10]"
   ]
  },
  {
   "cell_type": "code",
   "execution_count": 6,
   "metadata": {},
   "outputs": [],
   "source": [
    "order_count_by_date = myReduceByKey(orders_map, \n",
    "                                    lambda t, e: t + e\n",
    "                                   )"
   ]
  },
  {
   "cell_type": "code",
   "execution_count": 7,
   "metadata": {},
   "outputs": [
    {
     "data": {
      "text/plain": [
       "[('2013-07-25 00:00:00.0', 143),\n",
       " ('2013-07-26 00:00:00.0', 269),\n",
       " ('2013-07-27 00:00:00.0', 202),\n",
       " ('2013-07-28 00:00:00.0', 187),\n",
       " ('2013-07-29 00:00:00.0', 253),\n",
       " ('2013-07-30 00:00:00.0', 227),\n",
       " ('2013-07-31 00:00:00.0', 252),\n",
       " ('2013-08-01 00:00:00.0', 246),\n",
       " ('2013-08-02 00:00:00.0', 224),\n",
       " ('2013-08-03 00:00:00.0', 183)]"
      ]
     },
     "execution_count": 7,
     "metadata": {},
     "output_type": "execute_result"
    }
   ],
   "source": [
    "order_count_by_date[:10]"
   ]
  },
  {
   "cell_type": "code",
   "execution_count": null,
   "metadata": {},
   "outputs": [],
   "source": [
    "len(orders)"
   ]
  },
  {
   "cell_type": "code",
   "execution_count": 8,
   "metadata": {},
   "outputs": [
    {
     "data": {
      "text/plain": [
       "364"
      ]
     },
     "execution_count": 8,
     "metadata": {},
     "output_type": "execute_result"
    }
   ],
   "source": [
    "len(order_count_by_date)"
   ]
  },
  {
   "cell_type": "markdown",
   "metadata": {},
   "source": [
    "* Use the function to get the revenue for each order id."
   ]
  },
  {
   "cell_type": "code",
   "execution_count": 10,
   "metadata": {},
   "outputs": [],
   "source": [
    "order_items_path = \"../../../data/retail_db/order_items/part-00000\"\n",
    "order_items = open(order_items_path). \\\n",
    "    read(). \\\n",
    "    splitlines()"
   ]
  },
  {
   "cell_type": "code",
   "execution_count": null,
   "metadata": {},
   "outputs": [],
   "source": [
    "order_items[:10]"
   ]
  },
  {
   "cell_type": "code",
   "execution_count": 11,
   "metadata": {},
   "outputs": [],
   "source": [
    "order_items_map = myMap(order_items,\n",
    "                        lambda order_item: (int(order_item.split(',')[1]),\n",
    "                                            float(order_item.split(',')[4])\n",
    "                                           )\n",
    "                       )"
   ]
  },
  {
   "cell_type": "code",
   "execution_count": null,
   "metadata": {},
   "outputs": [],
   "source": [
    "order_items_map[:10]"
   ]
  },
  {
   "cell_type": "code",
   "execution_count": 12,
   "metadata": {},
   "outputs": [],
   "source": [
    "revenue_per_order = myReduceByKey(order_items_map,\n",
    "                                  lambda t, e: round(t + e, 2)\n",
    "                                 )"
   ]
  },
  {
   "cell_type": "code",
   "execution_count": 13,
   "metadata": {},
   "outputs": [
    {
     "data": {
      "text/plain": [
       "[(1, 299.98),\n",
       " (2, 579.98),\n",
       " (4, 699.85),\n",
       " (5, 1129.86),\n",
       " (7, 579.92),\n",
       " (8, 729.84),\n",
       " (9, 599.96),\n",
       " (10, 651.92),\n",
       " (11, 919.79),\n",
       " (12, 1299.87)]"
      ]
     },
     "execution_count": 13,
     "metadata": {},
     "output_type": "execute_result"
    }
   ],
   "source": [
    "revenue_per_order[:10]"
   ]
  },
  {
   "cell_type": "code",
   "execution_count": 14,
   "metadata": {},
   "outputs": [
    {
     "data": {
      "text/plain": [
       "[(1, 299.98),\n",
       " (2, 129.99),\n",
       " (4, 49.98),\n",
       " (5, 99.96),\n",
       " (7, 79.95),\n",
       " (8, 50.0),\n",
       " (9, 199.98),\n",
       " (10, 21.99),\n",
       " (11, 49.98),\n",
       " (12, 100.0)]"
      ]
     },
     "execution_count": 14,
     "metadata": {},
     "output_type": "execute_result"
    }
   ],
   "source": [
    "myReduceByKey(order_items_map,\n",
    "              lambda t, e: min(t, e)\n",
    "             )[:10]"
   ]
  },
  {
   "cell_type": "markdown",
   "metadata": {},
   "source": [
    "* Use the function to get the revenue as well as the number of items for each order id."
   ]
  },
  {
   "cell_type": "code",
   "execution_count": null,
   "metadata": {},
   "outputs": [],
   "source": [
    "order_items[:10]"
   ]
  },
  {
   "cell_type": "code",
   "execution_count": null,
   "metadata": {
    "tags": []
   },
   "outputs": [],
   "source": [
    "order_items_map = myMap(order_items,\n",
    "                        lambda order_item: (int(order_item.split(',')[1]),\n",
    "                                            (float(order_item.split(',')[4]), 1)\n",
    "                                           )\n",
    "                       )"
   ]
  },
  {
   "cell_type": "code",
   "execution_count": null,
   "metadata": {},
   "outputs": [],
   "source": [
    "order_items_map[:10]"
   ]
  },
  {
   "cell_type": "code",
   "execution_count": null,
   "metadata": {},
   "outputs": [],
   "source": [
    "[2, [(199.99, 1), (250.0, 1), (129.99, 1)]]"
   ]
  },
  {
   "cell_type": "code",
   "execution_count": null,
   "metadata": {},
   "outputs": [],
   "source": [
    "t1 = (199.99, 1)\n",
    "t2 = (250.0, 1)\n",
    "(t1[0] + t2[0], t1[1] + t2[1])"
   ]
  },
  {
   "cell_type": "code",
   "execution_count": null,
   "metadata": {},
   "outputs": [],
   "source": [
    "myReduceByKey(order_items_map,\n",
    "              lambda t, e: (round(t[0] + e[0], 2), t[1] + e[1])\n",
    "             )[:10]"
   ]
  },
  {
   "cell_type": "code",
   "execution_count": null,
   "metadata": {},
   "outputs": [],
   "source": []
  }
 ],
 "metadata": {
  "kernelspec": {
   "display_name": "Python 3 (ipykernel)",
   "language": "python",
   "name": "python3"
  },
  "language_info": {
   "codemirror_mode": {
    "name": "ipython",
    "version": 3
   },
   "file_extension": ".py",
   "mimetype": "text/x-python",
   "name": "python",
   "nbconvert_exporter": "python",
   "pygments_lexer": "ipython3",
   "version": "3.10.8"
  }
 },
 "nbformat": 4,
 "nbformat_minor": 4
}
