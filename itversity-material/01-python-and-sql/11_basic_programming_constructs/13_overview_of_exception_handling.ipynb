{
 "cells": [
  {
   "cell_type": "markdown",
   "id": "237d1a2e-ec83-45ad-899d-c2d6736f11d9",
   "metadata": {
    "tags": []
   },
   "source": [
    "## Overview of Exception Handling\n",
    "\n",
    "Let us get an overview of Exception Handling.\n",
    "* Exception Handling in general means dealing with unexpected events (eg: trying to add a number with string).\n",
    "* Here are the different ways using which we handle exceptions in Python.\n",
    "  * Using try catch blocks.\n",
    "  * Throwing or raising exceptions as part of if conditions.\n",
    "  * Using assert function."
   ]
  },
  {
   "cell_type": "markdown",
   "id": "33a023b1-9840-43ee-af1a-1d3834048522",
   "metadata": {},
   "source": [
    "* Using `try catch`"
   ]
  },
  {
   "cell_type": "code",
   "execution_count": 4,
   "id": "019ea67c-8400-48ab-bc63-d87f785d7848",
   "metadata": {},
   "outputs": [],
   "source": [
    "a = 1"
   ]
  },
  {
   "cell_type": "code",
   "execution_count": 5,
   "id": "1b465e01-b181-45c9-a675-b163d16f5eb4",
   "metadata": {},
   "outputs": [],
   "source": [
    "b = '10'"
   ]
  },
  {
   "cell_type": "code",
   "execution_count": 6,
   "id": "43264639-13de-498f-abc7-18285da4fad6",
   "metadata": {},
   "outputs": [
    {
     "ename": "TypeError",
     "evalue": "unsupported operand type(s) for +: 'int' and 'str'",
     "output_type": "error",
     "traceback": [
      "\u001b[0;31m---------------------------------------------------------------------------\u001b[0m",
      "\u001b[0;31mTypeError\u001b[0m                                 Traceback (most recent call last)",
      "Cell \u001b[0;32mIn [6], line 1\u001b[0m\n\u001b[0;32m----> 1\u001b[0m \u001b[43ma\u001b[49m\u001b[43m \u001b[49m\u001b[38;5;241;43m+\u001b[39;49m\u001b[43m \u001b[49m\u001b[43mb\u001b[49m \u001b[38;5;66;03m# TypeError is Exception Class. It is followed by exception message\u001b[39;00m\n",
      "\u001b[0;31mTypeError\u001b[0m: unsupported operand type(s) for +: 'int' and 'str'"
     ]
    }
   ],
   "source": [
    "a + b # TypeError is Exception Class. It is followed by exception message"
   ]
  },
  {
   "cell_type": "code",
   "execution_count": 3,
   "id": "27fe7af0-ac21-40ab-88f6-143ffe6a426e",
   "metadata": {},
   "outputs": [
    {
     "ename": "NameError",
     "evalue": "name 'a' is not defined",
     "output_type": "error",
     "traceback": [
      "\u001b[0;31m---------------------------------------------------------------------------\u001b[0m",
      "\u001b[0;31mNameError\u001b[0m                                 Traceback (most recent call last)",
      "Cell \u001b[0;32mIn [3], line 2\u001b[0m\n\u001b[1;32m      1\u001b[0m \u001b[38;5;28;01mtry\u001b[39;00m:\n\u001b[0;32m----> 2\u001b[0m     res \u001b[38;5;241m=\u001b[39m \u001b[43ma\u001b[49m \u001b[38;5;241m+\u001b[39m b\n\u001b[1;32m      3\u001b[0m \u001b[38;5;28;01mexcept\u001b[39;00m \u001b[38;5;167;01mTypeError\u001b[39;00m:\n\u001b[1;32m      4\u001b[0m     \u001b[38;5;66;03m# Below statement will not print exception class name\u001b[39;00m\n\u001b[1;32m      5\u001b[0m     \u001b[38;5;28mprint\u001b[39m(\u001b[38;5;124mf\u001b[39m\u001b[38;5;124m'\u001b[39m\u001b[38;5;124mEither \u001b[39m\u001b[38;5;132;01m{\u001b[39;00ma\u001b[38;5;132;01m}\u001b[39;00m\u001b[38;5;124m or \u001b[39m\u001b[38;5;132;01m{\u001b[39;00mb\u001b[38;5;132;01m}\u001b[39;00m\u001b[38;5;124m or both are not integers\u001b[39m\u001b[38;5;124m'\u001b[39m)\n",
      "\u001b[0;31mNameError\u001b[0m: name 'a' is not defined"
     ]
    }
   ],
   "source": [
    "try:\n",
    "    res = a + b\n",
    "except TypeError:\n",
    "    # Below statement will not print exception class name\n",
    "    print(f'Either {a} or {b} or both are not integers')"
   ]
  },
  {
   "cell_type": "code",
   "execution_count": 7,
   "id": "5d618f2d-2ad4-4671-af0f-3dfd7f735445",
   "metadata": {
    "scrolled": true
   },
   "outputs": [
    {
     "name": "stdout",
     "output_type": "stream",
     "text": [
      "Help on class TypeError in module builtins:\n",
      "\n",
      "class TypeError(Exception)\n",
      " |  Inappropriate argument type.\n",
      " |  \n",
      " |  Method resolution order:\n",
      " |      TypeError\n",
      " |      Exception\n",
      " |      BaseException\n",
      " |      object\n",
      " |  \n",
      " |  Methods defined here:\n",
      " |  \n",
      " |  __init__(self, /, *args, **kwargs)\n",
      " |      Initialize self.  See help(type(self)) for accurate signature.\n",
      " |  \n",
      " |  ----------------------------------------------------------------------\n",
      " |  Static methods defined here:\n",
      " |  \n",
      " |  __new__(*args, **kwargs) from builtins.type\n",
      " |      Create and return a new object.  See help(type) for accurate signature.\n",
      " |  \n",
      " |  ----------------------------------------------------------------------\n",
      " |  Methods inherited from BaseException:\n",
      " |  \n",
      " |  __delattr__(self, name, /)\n",
      " |      Implement delattr(self, name).\n",
      " |  \n",
      " |  __getattribute__(self, name, /)\n",
      " |      Return getattr(self, name).\n",
      " |  \n",
      " |  __reduce__(...)\n",
      " |      Helper for pickle.\n",
      " |  \n",
      " |  __repr__(self, /)\n",
      " |      Return repr(self).\n",
      " |  \n",
      " |  __setattr__(self, name, value, /)\n",
      " |      Implement setattr(self, name, value).\n",
      " |  \n",
      " |  __setstate__(...)\n",
      " |  \n",
      " |  __str__(self, /)\n",
      " |      Return str(self).\n",
      " |  \n",
      " |  with_traceback(...)\n",
      " |      Exception.with_traceback(tb) --\n",
      " |      set self.__traceback__ to tb and return self.\n",
      " |  \n",
      " |  ----------------------------------------------------------------------\n",
      " |  Data descriptors inherited from BaseException:\n",
      " |  \n",
      " |  __cause__\n",
      " |      exception cause\n",
      " |  \n",
      " |  __context__\n",
      " |      exception context\n",
      " |  \n",
      " |  __dict__\n",
      " |  \n",
      " |  __suppress_context__\n",
      " |  \n",
      " |  __traceback__\n",
      " |  \n",
      " |  args\n",
      "\n"
     ]
    }
   ],
   "source": [
    "help(TypeError)"
   ]
  },
  {
   "cell_type": "code",
   "execution_count": 8,
   "id": "a1d19019-c30b-4c94-835c-cfd18f4c50ab",
   "metadata": {},
   "outputs": [
    {
     "name": "stdout",
     "output_type": "stream",
     "text": [
      "TypeError: Either 1 or 10 or both are not integers\n"
     ]
    }
   ],
   "source": [
    "try:\n",
    "    res = a + b\n",
    "except TypeError as te:\n",
    "    # Print Exception class name along with custom message.\n",
    "    print(f'{type(te).__name__}: Either {a} or {b} or both are not integers')"
   ]
  },
  {
   "cell_type": "code",
   "execution_count": 9,
   "id": "546d3075-13d4-4f71-b5db-a2c6b23ea7e2",
   "metadata": {},
   "outputs": [
    {
     "name": "stdout",
     "output_type": "stream",
     "text": [
      "TypeError(\"unsupported operand type(s) for +: 'int' and 'str'\"): Either 1 or 10 or both are not integers\n"
     ]
    }
   ],
   "source": [
    "try:\n",
    "    res = a + b\n",
    "except TypeError as te:\n",
    "    # Print default message along with custom message.\n",
    "    # We can also use str (class name will not be printed)\n",
    "    print(f'{repr(te)}: Either {a} or {b} or both are not integers')"
   ]
  },
  {
   "cell_type": "code",
   "execution_count": null,
   "id": "ec5800d1-5233-4d16-acf4-22edab7922f0",
   "metadata": {},
   "outputs": [],
   "source": [
    "help(Exception)"
   ]
  },
  {
   "cell_type": "code",
   "execution_count": null,
   "id": "116f2fee-3085-4bfd-b9e6-95dedad682e3",
   "metadata": {},
   "outputs": [],
   "source": [
    "int(a) + int(b)"
   ]
  },
  {
   "cell_type": "code",
   "execution_count": null,
   "id": "92aec8ce-0117-469c-bf3c-1294c9b7778f",
   "metadata": {},
   "outputs": [],
   "source": [
    "a = 1"
   ]
  },
  {
   "cell_type": "code",
   "execution_count": null,
   "id": "ec29a4e2-dc03-4b1a-a5d3-622998b01d77",
   "metadata": {},
   "outputs": [],
   "source": [
    "b = 'ten'"
   ]
  },
  {
   "cell_type": "code",
   "execution_count": null,
   "id": "776984c4-c429-4daf-aae5-8ee826c71ea3",
   "metadata": {},
   "outputs": [],
   "source": [
    "int(a) + int(b)"
   ]
  },
  {
   "cell_type": "code",
   "execution_count": null,
   "id": "c6f2b52c-058b-4d20-a574-e2e27427018a",
   "metadata": {},
   "outputs": [],
   "source": [
    "try:\n",
    "    res = int(a) + int(b)\n",
    "except ValueError:\n",
    "    print(f'Either {a} or {b} or both cannot be converted to integers')"
   ]
  },
  {
   "cell_type": "markdown",
   "id": "d2dc7132-0482-4a08-b41a-7b45ec4c335b",
   "metadata": {},
   "source": [
    "* Throwing or raising exceptions as part of if conditions"
   ]
  },
  {
   "cell_type": "code",
   "execution_count": null,
   "id": "083790e4-3006-4b95-9905-7dbf67c42dd6",
   "metadata": {},
   "outputs": [],
   "source": [
    "if type(a) != int or type(b) != int:\n",
    "    raise ValueError(f'{a} or {b} or both cannot be converted to integers')"
   ]
  },
  {
   "cell_type": "markdown",
   "id": "8ca54e2a-6389-49df-81e7-157a158a619b",
   "metadata": {},
   "source": [
    "* Using `assert`"
   ]
  },
  {
   "cell_type": "code",
   "execution_count": null,
   "id": "3b091ba9-68be-4476-8d01-c8e5e60ad95f",
   "metadata": {},
   "outputs": [],
   "source": [
    "age = -1\n",
    "assert age >= 0, f'Age ({age}) cannot be negative'"
   ]
  }
 ],
 "metadata": {
  "kernelspec": {
   "display_name": "Python 3 (ipykernel)",
   "language": "python",
   "name": "python3"
  },
  "language_info": {
   "codemirror_mode": {
    "name": "ipython",
    "version": 3
   },
   "file_extension": ".py",
   "mimetype": "text/x-python",
   "name": "python",
   "nbconvert_exporter": "python",
   "pygments_lexer": "ipython3",
   "version": "3.10.8"
  }
 },
 "nbformat": 4,
 "nbformat_minor": 5
}
