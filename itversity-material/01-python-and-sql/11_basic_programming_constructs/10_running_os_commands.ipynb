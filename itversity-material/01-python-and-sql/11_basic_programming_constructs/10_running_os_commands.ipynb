{
 "cells": [
  {
   "cell_type": "markdown",
   "metadata": {},
   "source": [
    "## Running OS Commands\n",
    "\n",
    "Let us understand how to run OS commands using Python using libraries such as `os` and `subprocess`.* Python provides several libraries which can be used to run OS commands. `os` and `subprocess` are most popular ones.\n",
    "* We can import the libraries such as `os` and `subprocess` to start using them.\n",
    "* There are bunch of commands to create directories, change ownership, change permission, run general system commands etc.\n",
    "* `os` library is extensively used to read environment variables at run time of the application. It is used to pass keys and credentials to work with databases, external applications etc.\n",
    "* Typically keys and credentials should not be part of the source code.\n",
    "* `subprocess` can be used to run the commands and also to process the output."
   ]
  },
  {
   "cell_type": "code",
   "execution_count": 1,
   "metadata": {
    "jupyter": {
     "outputs_hidden": false
    },
    "pycharm": {
     "name": "#%%\n"
    }
   },
   "outputs": [],
   "source": [
    "import os"
   ]
  },
  {
   "cell_type": "markdown",
   "metadata": {},
   "source": [
    "* Get current working directory."
   ]
  },
  {
   "cell_type": "code",
   "execution_count": 2,
   "metadata": {
    "jupyter": {
     "outputs_hidden": false
    },
    "pycharm": {
     "name": "#%%\n"
    }
   },
   "outputs": [
    {
     "data": {
      "text/plain": [
       "'/run/media/solverbot/repoA/gitFolders/data-engineering-spark/itversity-material/01-python-and-sql/11_basic_programming_constructs'"
      ]
     },
     "execution_count": 2,
     "metadata": {},
     "output_type": "execute_result"
    }
   ],
   "source": [
    "os.getcwd()"
   ]
  },
  {
   "cell_type": "markdown",
   "metadata": {},
   "source": [
    "* Read environment variables"
   ]
  },
  {
   "cell_type": "code",
   "execution_count": 3,
   "metadata": {
    "jupyter": {
     "outputs_hidden": false
    },
    "pycharm": {
     "name": "#%%\n"
    }
   },
   "outputs": [
    {
     "data": {
      "text/plain": [
       "'/run/media/solverbot/repoA/gitFolders/DEtheHardWay:/run/media/solverbot/repoA/gitFolders/Datagathering_Automation:/home/solverbot/.local/bin:/usr/local/bin:/usr/bin:/bin:/usr/local/sbin:/usr/lib/jvm/default/bin:/usr/bin/site_perl:/usr/bin/vendor_perl:/usr/bin/core_perl:/var/lib/snapd/snap/bin'"
      ]
     },
     "execution_count": 3,
     "metadata": {},
     "output_type": "execute_result"
    }
   ],
   "source": [
    "os.environ.get('PATH')"
   ]
  },
  {
   "cell_type": "code",
   "execution_count": 4,
   "metadata": {
    "jupyter": {
     "outputs_hidden": false
    },
    "pycharm": {
     "name": "#%%\n"
    }
   },
   "outputs": [
    {
     "data": {
      "text/plain": [
       "'solverbot'"
      ]
     },
     "execution_count": 4,
     "metadata": {},
     "output_type": "execute_result"
    }
   ],
   "source": [
    "os.environ.get('USER')"
   ]
  },
  {
   "cell_type": "code",
   "execution_count": 5,
   "metadata": {
    "jupyter": {
     "outputs_hidden": false
    },
    "pycharm": {
     "name": "#%%\n"
    }
   },
   "outputs": [
    {
     "data": {
      "text/plain": [
       "'/home/solverbot'"
      ]
     },
     "execution_count": 5,
     "metadata": {},
     "output_type": "execute_result"
    }
   ],
   "source": [
    "os.environ.get('HOME')"
   ]
  },
  {
   "cell_type": "code",
   "execution_count": 6,
   "metadata": {
    "scrolled": true
   },
   "outputs": [
    {
     "name": "stdout",
     "output_type": "stream",
     "text": [
      "SHELL=/bin/bash\n",
      "SESSION_MANAGER=local/codeStation:@/tmp/.ICE-unix/706,unix/codeStation:/tmp/.ICE-unix/706\n",
      "WINDOWID=65011715\n",
      "COLORTERM=truecolor\n",
      "XDG_CONFIG_DIRS=/etc/xdg\n",
      "XDG_SESSION_PATH=/org/freedesktop/DisplayManager/Session0\n",
      "XDG_MENU_PREFIX=xfce-\n",
      "LC_ADDRESS=en_US.UTF-8\n",
      "LC_NAME=en_US.UTF-8\n",
      "SSH_AUTH_SOCK=/tmp/ssh-XXXXXXUxuPKk/agent.757\n",
      "DESKTOP_SESSION=xfce\n",
      "LC_MONETARY=en_US.UTF-8\n",
      "SSH_AGENT_PID=758\n",
      "EDITOR=/usr/bin/nano\n",
      "GTK_MODULES=canberra-gtk-module:canberra-gtk-module\n",
      "XDG_SEAT=seat0\n",
      "PWD=/run/media/solverbot/repoA/gitFolders/data-engineering-spark/itversity-material/01-python-and-sql/11_basic_programming_constructs\n",
      "XDG_SESSION_DESKTOP=xfce\n",
      "LOGNAME=solverbot\n",
      "QT_QPA_PLATFORMTHEME=qt5ct\n",
      "XDG_SESSION_TYPE=x11\n",
      "PANEL_GDK_CORE_DEVICE_EVENTS=0\n",
      "_=/usr/bin/env\n",
      "XAUTHORITY=/home/solverbot/.Xauthority\n",
      "XDG_GREETER_DATA_DIR=/var/lib/lightdm-data/solverbot\n",
      "MOTD_SHOWN=pam\n",
      "GDM_LANG=en_US.utf8\n",
      "GTK2_RC_FILES=/home/solverbot/.gtkrc-2.0\n",
      "HOME=/home/solverbot\n",
      "LANG=en_US.utf8\n",
      "LC_PAPER=en_US.UTF-8\n",
      "LS_COLORS=rs=0:di=01;34:ln=01;36:mh=00:pi=40;33:so=01;35:do=01;35:bd=40;33;01:cd=40;33;01:or=01;05;37;41:mi=01;05;37;41:su=37;41:sg=30;43:ca=30;41:tw=30;42:ow=34;42:st=37;44:ex=01;32:*.tar=01;31:*.tgz=01;31:*.arc=01;31:*.arj=01;31:*.taz=01;31:*.lha=01;31:*.lz4=01;31:*.lzh=01;31:*.lzma=01;31:*.tlz=01;31:*.txz=01;31:*.tzo=01;31:*.t7z=01;31:*.zip=01;31:*.z=01;31:*.Z=01;31:*.dz=01;31:*.gz=01;31:*.lrz=01;31:*.lz=01;31:*.lzo=01;31:*.xz=01;31:*.bz2=01;31:*.bz=01;31:*.tbz=01;31:*.tbz2=01;31:*.tz=01;31:*.deb=01;31:*.rpm=01;31:*.jar=01;31:*.war=01;31:*.ear=01;31:*.sar=01;31:*.rar=01;31:*.alz=01;31:*.ace=01;31:*.zoo=01;31:*.cpio=01;31:*.7z=01;31:*.rz=01;31:*.cab=01;31:*.jpg=01;35:*.jpeg=01;35:*.gif=01;35:*.bmp=01;35:*.pbm=01;35:*.pgm=01;35:*.ppm=01;35:*.tga=01;35:*.xbm=01;35:*.xpm=01;35:*.tif=01;35:*.tiff=01;35:*.png=01;35:*.svg=01;35:*.svgz=01;35:*.mng=01;35:*.pcx=01;35:*.mov=01;35:*.mpg=01;35:*.mpeg=01;35:*.m2v=01;35:*.mkv=01;35:*.webm=01;35:*.ogm=01;35:*.mp4=01;35:*.m4v=01;35:*.mp4v=01;35:*.vob=01;35:*.qt=01;35:*.nuv=01;35:*.wmv=01;35:*.asf=01;35:*.rm=01;35:*.rmvb=01;35:*.flc=01;35:*.avi=01;35:*.fli=01;35:*.flv=01;35:*.gl=01;35:*.dl=01;35:*.xcf=01;35:*.xwd=01;35:*.yuv=01;35:*.cgm=01;35:*.emf=01;35:*.axv=01;35:*.anx=01;35:*.ogv=01;35:*.ogx=01;35:*.pdf=00;32:*.ps=00;32:*.txt=00;32:*.patch=00;32:*.diff=00;32:*.log=00;32:*.tex=00;32:*.doc=00;32:*.aac=00;36:*.au=00;36:*.flac=00;36:*.m4a=00;36:*.mid=00;36:*.midi=00;36:*.mka=00;36:*.mp3=00;36:*.mpc=00;36:*.ogg=00;36:*.ra=00;36:*.wav=00;36:*.axa=00;36:*.oga=00;36:*.spx=00;36:*.xspf=00;36:\n",
      "XDG_CURRENT_DESKTOP=XFCE\n",
      "VTE_VERSION=7001\n",
      "XDG_SEAT_PATH=/org/freedesktop/DisplayManager/Seat0\n",
      "CLICOLOR=1\n",
      "JPY_PARENT_PID=1557\n",
      "XDG_SESSION_CLASS=user\n",
      "LC_IDENTIFICATION=en_US.UTF-8\n",
      "TERM=xterm-color\n",
      "USER=solverbot\n",
      "GIT_PAGER=cat\n",
      "DISPLAY=:0.0\n",
      "SHLVL=1\n",
      "PAGER=cat\n",
      "LC_TELEPHONE=en_US.UTF-8\n",
      "LC_MEASUREMENT=en_US.UTF-8\n",
      "XDG_VTNR=7\n",
      "XDG_SESSION_ID=1\n",
      "MPLBACKEND=module://matplotlib_inline.backend_inline\n",
      "XDG_RUNTIME_DIR=/run/user/1000\n",
      "LC_TIME=en_US.UTF-8\n",
      "QT_AUTO_SCREEN_SCALE_FACTOR=0\n",
      "GTK3_MODULES=xapp-gtk3-module:xapp-gtk3-module\n",
      "XDG_DATA_DIRS=/usr/local/share:/usr/share:/var/lib/snapd/desktop:/usr/share\n",
      "PATH=/run/media/solverbot/repoA/gitFolders/DEtheHardWay:/run/media/solverbot/repoA/gitFolders/Datagathering_Automation:/home/solverbot/.local/bin:/usr/local/bin:/usr/bin:/bin:/usr/local/sbin:/usr/lib/jvm/default/bin:/usr/bin/site_perl:/usr/bin/vendor_perl:/usr/bin/core_perl:/var/lib/snapd/snap/bin\n",
      "GDMSESSION=xfce\n",
      "DBUS_SESSION_BUS_ADDRESS=unix:path=/run/user/1000/bus\n",
      "MAIL=/var/spool/mail/solverbot\n",
      "LC_NUMERIC=en_US.UTF-8\n",
      "OLDPWD=/home/solverbot\n"
     ]
    }
   ],
   "source": [
    "%%sh\n",
    "\n",
    "env|grep -v JUPYTER|grep -v TOKEN|grep -v PASSWORD"
   ]
  },
  {
   "cell_type": "code",
   "execution_count": 7,
   "metadata": {},
   "outputs": [
    {
     "data": {
      "text/plain": [
       "\u001b[0;31mSignature:\u001b[0m \u001b[0mos\u001b[0m\u001b[0;34m.\u001b[0m\u001b[0menviron\u001b[0m\u001b[0;34m.\u001b[0m\u001b[0mget\u001b[0m\u001b[0;34m(\u001b[0m\u001b[0mkey\u001b[0m\u001b[0;34m,\u001b[0m \u001b[0mdefault\u001b[0m\u001b[0;34m=\u001b[0m\u001b[0;32mNone\u001b[0m\u001b[0;34m)\u001b[0m\u001b[0;34m\u001b[0m\u001b[0;34m\u001b[0m\u001b[0m\n",
       "\u001b[0;31mDocstring:\u001b[0m D.get(k[,d]) -> D[k] if k in D, else d.  d defaults to None.\n",
       "\u001b[0;31mFile:\u001b[0m      /usr/local/lib/python3.7/_collections_abc.py\n",
       "\u001b[0;31mType:\u001b[0m      method\n"
      ]
     },
     "metadata": {},
     "output_type": "display_data"
    }
   ],
   "source": [
    "os.environ.get?"
   ]
  },
  {
   "cell_type": "code",
   "execution_count": 7,
   "metadata": {},
   "outputs": [
    {
     "data": {
      "text/plain": [
       "'Passwords should be confidential'"
      ]
     },
     "execution_count": 7,
     "metadata": {},
     "output_type": "execute_result"
    }
   ],
   "source": [
    "os.environ.get('PASSWORD', 'Passwords should be confidential')"
   ]
  },
  {
   "cell_type": "markdown",
   "metadata": {},
   "source": [
    "* Run `ls -ltr` command to get list of files in the current directory."
   ]
  },
  {
   "cell_type": "code",
   "execution_count": 8,
   "metadata": {},
   "outputs": [],
   "source": [
    "import subprocess"
   ]
  },
  {
   "cell_type": "code",
   "execution_count": 9,
   "metadata": {},
   "outputs": [
    {
     "name": "stdout",
     "output_type": "stream",
     "text": [
      "total 116\n",
      "-rwxr-xr-x 1 solverbot autologin  1040 Nov 11 18:51 01_basic_programming_constructs.ipynb\n",
      "-rwxr-xr-x 1 solverbot autologin  2781 Nov 11 18:51 02_getting_help.ipynb\n",
      "-rwxr-xr-x 1 solverbot autologin  4157 Nov 11 18:51 03_variables_and_objects.ipynb\n",
      "-rwxr-xr-x 1 solverbot autologin  1629 Nov 11 18:51 04_data_types_commonly_used.ipynb\n",
      "-rwxr-xr-x 1 solverbot autologin  5206 Nov 11 18:51 05_overview_of_boolean_type.ipynb\n",
      "-rwxr-xr-x 1 solverbot autologin 10190 Nov 11 18:51 06_operators_in_python.ipynb\n",
      "-rwxr-xr-x 1 solverbot autologin  4365 Nov 11 18:51 07_comments_and_doc_strings.ipynb\n",
      "-rwxr-xr-x 1 solverbot autologin 16782 Nov 11 18:51 10_running_os_commands.ipynb\n",
      "-rwxr-xr-x 1 solverbot autologin  3945 Nov 11 18:51 11_exercises_basic_programming_constructs.ipynb\n",
      "-rwxr-xr-x 1 solverbot autologin  2934 Nov 11 18:51 12_eval_and_exec.ipynb\n",
      "-rwxr-xr-x 1 solverbot autologin  5323 Nov 11 18:51 13_overview_of_exception_handling.ipynb\n",
      "-rwxr-xr-x 1 solverbot autologin  4076 Nov 11 18:51 14_else_and_finally_in_exceptions.ipynb\n",
      "-rwxr-xr-x 1 solverbot autologin  4915 Nov 11 18:51 15_overview_of_unhandled_exceptions.ipynb\n",
      "-rwxr-xr-x 1 solverbot autologin  6991 Nov 19 09:51 08_conditionals.ipynb\n",
      "-rwxr-xr-x 1 solverbot autologin  9163 Nov 19 09:53 09_all_about_for_loops.ipynb\n"
     ]
    }
   ],
   "source": [
    "%%sh\n",
    "\n",
    "ls -ltr"
   ]
  },
  {
   "cell_type": "code",
   "execution_count": 10,
   "metadata": {},
   "outputs": [
    {
     "name": "stdout",
     "output_type": "stream",
     "text": [
      "total 116\n",
      "-rwxr-xr-x 1 solverbot autologin  1040 Nov 11 18:51 01_basic_programming_constructs.ipynb\n",
      "-rwxr-xr-x 1 solverbot autologin  2781 Nov 11 18:51 02_getting_help.ipynb\n",
      "-rwxr-xr-x 1 solverbot autologin  4157 Nov 11 18:51 03_variables_and_objects.ipynb\n",
      "-rwxr-xr-x 1 solverbot autologin  1629 Nov 11 18:51 04_data_types_commonly_used.ipynb\n",
      "-rwxr-xr-x 1 solverbot autologin  5206 Nov 11 18:51 05_overview_of_boolean_type.ipynb\n",
      "-rwxr-xr-x 1 solverbot autologin 10190 Nov 11 18:51 06_operators_in_python.ipynb\n",
      "-rwxr-xr-x 1 solverbot autologin  4365 Nov 11 18:51 07_comments_and_doc_strings.ipynb\n",
      "-rwxr-xr-x 1 solverbot autologin 16782 Nov 11 18:51 10_running_os_commands.ipynb\n",
      "-rwxr-xr-x 1 solverbot autologin  3945 Nov 11 18:51 11_exercises_basic_programming_constructs.ipynb\n",
      "-rwxr-xr-x 1 solverbot autologin  2934 Nov 11 18:51 12_eval_and_exec.ipynb\n",
      "-rwxr-xr-x 1 solverbot autologin  5323 Nov 11 18:51 13_overview_of_exception_handling.ipynb\n",
      "-rwxr-xr-x 1 solverbot autologin  4076 Nov 11 18:51 14_else_and_finally_in_exceptions.ipynb\n",
      "-rwxr-xr-x 1 solverbot autologin  4915 Nov 11 18:51 15_overview_of_unhandled_exceptions.ipynb\n",
      "-rwxr-xr-x 1 solverbot autologin  6991 Nov 19 09:51 08_conditionals.ipynb\n",
      "-rwxr-xr-x 1 solverbot autologin  9163 Nov 19 09:53 09_all_about_for_loops.ipynb\n"
     ]
    }
   ],
   "source": [
    "output = subprocess.check_call(['ls', '-ltr'])"
   ]
  },
  {
   "cell_type": "code",
   "execution_count": 11,
   "metadata": {},
   "outputs": [
    {
     "data": {
      "text/plain": [
       "0"
      ]
     },
     "execution_count": 11,
     "metadata": {},
     "output_type": "execute_result"
    }
   ],
   "source": [
    "output"
   ]
  },
  {
   "cell_type": "code",
   "execution_count": 13,
   "metadata": {},
   "outputs": [],
   "source": [
    "output = subprocess.check_output(['ls', '-ltr'])"
   ]
  },
  {
   "cell_type": "code",
   "execution_count": 14,
   "metadata": {},
   "outputs": [
    {
     "data": {
      "text/plain": [
       "b'total 80\\n-rw-r--r-- 1 itversity itversity  1040 Nov  9 18:06 01_basic_programming_constructs.ipynb\\n-rw-r--r-- 1 itversity itversity  2781 Nov  9 18:06 02_getting_help.ipynb\\n-rw-r--r-- 1 itversity itversity  4157 Nov  9 18:06 03_variables_and_objects.ipynb\\n-rw-r--r-- 1 itversity itversity  1629 Nov  9 18:06 04_data_types_commonly_used.ipynb\\n-rw-r--r-- 1 itversity itversity  3487 Nov  9 18:06 05_overview_of_boolean_type.ipynb\\n-rw-r--r-- 1 itversity itversity 10190 Nov  9 18:06 06_operators_in_python.ipynb\\n-rw-r--r-- 1 itversity itversity  4070 Nov  9 18:06 07_comments_and_doc_strings.ipynb\\n-rw-r--r-- 1 itversity itversity  7291 Nov  9 18:06 08_conditionals.ipynb\\n-rw-r--r-- 1 itversity itversity  9804 Nov  9 18:06 09_all_about_for_loops.ipynb\\n-rw-r--r-- 1 itversity itversity  7027 Nov  9 18:06 10_running_os_commands.ipynb\\n-rw-r--r-- 1 itversity itversity  4366 Nov  9 18:06 11_exercises_basic_programming_constructs.ipynb\\n-rw-r--r-- 1 itversity itversity  2452 Nov  9 18:06 12_eval_and_exec.ipynb\\n'"
      ]
     },
     "execution_count": 14,
     "metadata": {},
     "output_type": "execute_result"
    }
   ],
   "source": [
    "output # output is of type binary"
   ]
  },
  {
   "cell_type": "code",
   "execution_count": 15,
   "metadata": {},
   "outputs": [
    {
     "data": {
      "text/plain": [
       "bytes"
      ]
     },
     "execution_count": 15,
     "metadata": {},
     "output_type": "execute_result"
    }
   ],
   "source": [
    "type(output)"
   ]
  },
  {
   "cell_type": "code",
   "execution_count": 16,
   "metadata": {},
   "outputs": [
    {
     "data": {
      "text/plain": [
       "'total 80\\n-rw-r--r-- 1 itversity itversity  1040 Nov  9 18:06 01_basic_programming_constructs.ipynb\\n-rw-r--r-- 1 itversity itversity  2781 Nov  9 18:06 02_getting_help.ipynb\\n-rw-r--r-- 1 itversity itversity  4157 Nov  9 18:06 03_variables_and_objects.ipynb\\n-rw-r--r-- 1 itversity itversity  1629 Nov  9 18:06 04_data_types_commonly_used.ipynb\\n-rw-r--r-- 1 itversity itversity  3487 Nov  9 18:06 05_overview_of_boolean_type.ipynb\\n-rw-r--r-- 1 itversity itversity 10190 Nov  9 18:06 06_operators_in_python.ipynb\\n-rw-r--r-- 1 itversity itversity  4070 Nov  9 18:06 07_comments_and_doc_strings.ipynb\\n-rw-r--r-- 1 itversity itversity  7291 Nov  9 18:06 08_conditionals.ipynb\\n-rw-r--r-- 1 itversity itversity  9804 Nov  9 18:06 09_all_about_for_loops.ipynb\\n-rw-r--r-- 1 itversity itversity  7027 Nov  9 18:06 10_running_os_commands.ipynb\\n-rw-r--r-- 1 itversity itversity  4366 Nov  9 18:06 11_exercises_basic_programming_constructs.ipynb\\n-rw-r--r-- 1 itversity itversity  2452 Nov  9 18:06 12_eval_and_exec.ipynb\\n'"
      ]
     },
     "execution_count": 16,
     "metadata": {},
     "output_type": "execute_result"
    }
   ],
   "source": [
    "output.decode('utf-8') # converts to string of type utf-8"
   ]
  },
  {
   "cell_type": "code",
   "execution_count": 17,
   "metadata": {},
   "outputs": [
    {
     "data": {
      "text/plain": [
       "str"
      ]
     },
     "execution_count": 17,
     "metadata": {},
     "output_type": "execute_result"
    }
   ],
   "source": [
    "type(output.decode('utf-8'))"
   ]
  },
  {
   "cell_type": "markdown",
   "metadata": {},
   "source": [
    "```{note}\n",
    "Let us convert string into list of strings. Once it is broken into list of strings we can process the data as per our requirements either by using Map Reduce libraries or Pandas based libraries.\n",
    "```"
   ]
  },
  {
   "cell_type": "code",
   "execution_count": 18,
   "metadata": {},
   "outputs": [
    {
     "data": {
      "text/plain": [
       "['total 80',\n",
       " '-rw-r--r-- 1 itversity itversity  1040 Nov  9 18:06 01_basic_programming_constructs.ipynb',\n",
       " '-rw-r--r-- 1 itversity itversity  2781 Nov  9 18:06 02_getting_help.ipynb',\n",
       " '-rw-r--r-- 1 itversity itversity  4157 Nov  9 18:06 03_variables_and_objects.ipynb',\n",
       " '-rw-r--r-- 1 itversity itversity  1629 Nov  9 18:06 04_data_types_commonly_used.ipynb',\n",
       " '-rw-r--r-- 1 itversity itversity  3487 Nov  9 18:06 05_overview_of_boolean_type.ipynb',\n",
       " '-rw-r--r-- 1 itversity itversity 10190 Nov  9 18:06 06_operators_in_python.ipynb',\n",
       " '-rw-r--r-- 1 itversity itversity  4070 Nov  9 18:06 07_comments_and_doc_strings.ipynb',\n",
       " '-rw-r--r-- 1 itversity itversity  7291 Nov  9 18:06 08_conditionals.ipynb',\n",
       " '-rw-r--r-- 1 itversity itversity  9804 Nov  9 18:06 09_all_about_for_loops.ipynb',\n",
       " '-rw-r--r-- 1 itversity itversity  7027 Nov  9 18:06 10_running_os_commands.ipynb',\n",
       " '-rw-r--r-- 1 itversity itversity  4366 Nov  9 18:06 11_exercises_basic_programming_constructs.ipynb',\n",
       " '-rw-r--r-- 1 itversity itversity  2452 Nov  9 18:06 12_eval_and_exec.ipynb']"
      ]
     },
     "execution_count": 18,
     "metadata": {},
     "output_type": "execute_result"
    }
   ],
   "source": [
    "output.decode('utf-8').splitlines()"
   ]
  },
  {
   "cell_type": "code",
   "execution_count": 19,
   "metadata": {},
   "outputs": [
    {
     "data": {
      "text/plain": [
       "list"
      ]
     },
     "execution_count": 19,
     "metadata": {},
     "output_type": "execute_result"
    }
   ],
   "source": [
    "type(output.decode('utf-8').splitlines())"
   ]
  },
  {
   "cell_type": "code",
   "execution_count": 20,
   "metadata": {},
   "outputs": [
    {
     "name": "stdout",
     "output_type": "stream",
     "text": [
      "total 80\n",
      "-rw-r--r-- 1 itversity itversity  1040 Nov  9 18:06 01_basic_programming_constructs.ipynb\n",
      "-rw-r--r-- 1 itversity itversity  2781 Nov  9 18:06 02_getting_help.ipynb\n",
      "-rw-r--r-- 1 itversity itversity  4157 Nov  9 18:06 03_variables_and_objects.ipynb\n",
      "-rw-r--r-- 1 itversity itversity  1629 Nov  9 18:06 04_data_types_commonly_used.ipynb\n",
      "-rw-r--r-- 1 itversity itversity  3487 Nov  9 18:06 05_overview_of_boolean_type.ipynb\n",
      "-rw-r--r-- 1 itversity itversity 10190 Nov  9 18:06 06_operators_in_python.ipynb\n",
      "-rw-r--r-- 1 itversity itversity  4070 Nov  9 18:06 07_comments_and_doc_strings.ipynb\n",
      "-rw-r--r-- 1 itversity itversity  7291 Nov  9 18:06 08_conditionals.ipynb\n",
      "-rw-r--r-- 1 itversity itversity  9804 Nov  9 18:06 09_all_about_for_loops.ipynb\n",
      "-rw-r--r-- 1 itversity itversity  7027 Nov  9 18:06 10_running_os_commands.ipynb\n",
      "-rw-r--r-- 1 itversity itversity  4366 Nov  9 18:06 11_exercises_basic_programming_constructs.ipynb\n",
      "-rw-r--r-- 1 itversity itversity  2452 Nov  9 18:06 12_eval_and_exec.ipynb\n"
     ]
    }
   ],
   "source": [
    "# splitlines is the function available on string type\n",
    "# It converts string with line breaks into list of strings\n",
    "for rec in output.decode('utf-8').splitlines():\n",
    "    print(rec)"
   ]
  },
  {
   "cell_type": "code",
   "execution_count": null,
   "metadata": {},
   "outputs": [],
   "source": []
  }
 ],
 "metadata": {
  "kernelspec": {
   "display_name": "Python 3 (ipykernel)",
   "language": "python",
   "name": "python3"
  },
  "language_info": {
   "codemirror_mode": {
    "name": "ipython",
    "version": 3
   },
   "file_extension": ".py",
   "mimetype": "text/x-python",
   "name": "python",
   "nbconvert_exporter": "python",
   "pygments_lexer": "ipython3",
   "version": "3.10.8"
  }
 },
 "nbformat": 4,
 "nbformat_minor": 4
}
