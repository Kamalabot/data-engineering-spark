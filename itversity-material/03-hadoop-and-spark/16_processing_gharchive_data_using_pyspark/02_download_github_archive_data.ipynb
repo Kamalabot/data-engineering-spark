{
 "cells": [
  {
   "cell_type": "markdown",
   "metadata": {},
   "source": [
    "## Download GitHub Archive Data\n",
    "\n",
    "Let us download GitHub Archive Data for few days, to go through the Data Engineering Process using a realistic exaple.\n",
    "* GitHub Archive data is available under https://data.gharchive.org.\n",
    "* It is denormalized in the form of JSON per hourly basis.\n",
    "\n",
    "Here are the steps you can follow to download GitHub Archive Data.\n",
    "* Create a folder or directory by name **gharchive** in the home directory.\n",
    "* Download files into the directory created.\n",
    "* Validate to ensure files are downloaded with out any issues by listing files in the target folder."
   ]
  },
  {
   "cell_type": "code",
   "execution_count": 1,
   "metadata": {},
   "outputs": [],
   "source": [
    "!mkdir -p /home/${USER}/gharchive"
   ]
  },
  {
   "cell_type": "code",
   "execution_count": 2,
   "metadata": {},
   "outputs": [
    {
     "name": "stdout",
     "output_type": "stream",
     "text": [
      "--2022-11-24 17:07:43--  https://data.gharchive.org/2022-11-22-0.json.gz\n",
      "Loaded CA certificate '/etc/ssl/certs/ca-certificates.crt'\n",
      "Resolving data.gharchive.org (data.gharchive.org)... 2606:4700:839f:d625:783b:4a2:a536:54bc, 172.67.168.206, 104.21.46.175\n",
      "Connecting to data.gharchive.org (data.gharchive.org)|2606:4700:839f:d625:783b:4a2:a536:54bc|:443... connected.\n",
      "HTTP request sent, awaiting response... 200 OK\n",
      "Length: 143283330 (137M) [application/gzip]\n",
      "Saving to: ‘/home/solverbot/gharchive/2022-11-22-0.json.gz’\n",
      "\n",
      "2022-11-22-0.json.g 100%[===================>] 136.65M  1.85MB/s    in 96s     \n",
      "\n",
      "2022-11-24 17:09:22 (1.43 MB/s) - ‘/home/solverbot/gharchive/2022-11-22-0.json.gz’ saved [143283330/143283330]\n",
      "\n",
      "--2022-11-24 17:09:22--  https://data.gharchive.org/2022-11-22-1.json.gz\n",
      "Reusing existing connection to [data.gharchive.org]:443.\n",
      "HTTP request sent, awaiting response... 200 OK\n",
      "Length: 161793079 (154M) [application/gzip]\n",
      "Saving to: ‘/home/solverbot/gharchive/2022-11-22-1.json.gz’\n",
      "\n",
      "2022-11-22-1.json.g  11%[=>                  ]  17.85M  1.54MB/s    eta 74s    ^C\n"
     ]
    }
   ],
   "source": [
    "!wget https://data.gharchive.org/2022-11-22-{0..23}.json.gz -P /home/${USER}/gharchive/"
   ]
  },
  {
   "cell_type": "code",
   "execution_count": null,
   "metadata": {},
   "outputs": [],
   "source": [
    "!wget https://data.gharchive.org/2022-11-23-{0..23}.json.gz -P /home/${USER}/gharchive/"
   ]
  },
  {
   "cell_type": "code",
   "execution_count": null,
   "metadata": {},
   "outputs": [],
   "source": [
    "!wget https://data.gharchive.org/2021-01-15-{0..23}.json.gz -P /home/${USER}/gharchive/"
   ]
  },
  {
   "cell_type": "code",
   "execution_count": null,
   "metadata": {},
   "outputs": [],
   "source": [
    "!wget https://data.gharchive.org/2021-01-16-{0..23}.json.gz -P /home/${USER}/gharchive/"
   ]
  },
  {
   "cell_type": "code",
   "execution_count": null,
   "metadata": {},
   "outputs": [],
   "source": [
    "!ls -ltr /home/${USER}/gharchive"
   ]
  },
  {
   "cell_type": "code",
   "execution_count": null,
   "metadata": {},
   "outputs": [],
   "source": []
  }
 ],
 "metadata": {
  "kernelspec": {
   "display_name": "Python 3 (ipykernel)",
   "language": "python",
   "name": "python3"
  },
  "language_info": {
   "codemirror_mode": {
    "name": "ipython",
    "version": 3
   },
   "file_extension": ".py",
   "mimetype": "text/x-python",
   "name": "python",
   "nbconvert_exporter": "python",
   "pygments_lexer": "ipython3",
   "version": "3.10.8"
  }
 },
 "nbformat": 4,
 "nbformat_minor": 4
}
